{
 "cells": [
  {
   "cell_type": "code",
   "execution_count": 1,
   "metadata": {},
   "outputs": [
    {
     "name": "stdout",
     "output_type": "stream",
     "text": [
      "Requirement already satisfied: tensorflow in /home/python_user/.pyenv/versions/3.7.2/lib/python3.7/site-packages (2.1.0)\n",
      "Requirement already satisfied: termcolor>=1.1.0 in /home/python_user/.pyenv/versions/3.7.2/lib/python3.7/site-packages (from tensorflow) (1.1.0)\n",
      "Requirement already satisfied: keras-preprocessing>=1.1.0 in /home/python_user/.pyenv/versions/3.7.2/lib/python3.7/site-packages (from tensorflow) (1.1.0)\n",
      "Requirement already satisfied: opt-einsum>=2.3.2 in /home/python_user/.pyenv/versions/3.7.2/lib/python3.7/site-packages (from tensorflow) (3.1.0)\n",
      "Requirement already satisfied: google-pasta>=0.1.6 in /home/python_user/.pyenv/versions/3.7.2/lib/python3.7/site-packages (from tensorflow) (0.1.8)\n",
      "Requirement already satisfied: tensorboard<2.2.0,>=2.1.0 in /home/python_user/.pyenv/versions/3.7.2/lib/python3.7/site-packages (from tensorflow) (2.1.0)\n",
      "Requirement already satisfied: astor>=0.6.0 in /home/python_user/.pyenv/versions/3.7.2/lib/python3.7/site-packages (from tensorflow) (0.8.1)\n",
      "Requirement already satisfied: numpy<2.0,>=1.16.0 in /home/python_user/.pyenv/versions/3.7.2/lib/python3.7/site-packages (from tensorflow) (1.18.1)\n",
      "Requirement already satisfied: grpcio>=1.8.6 in /home/python_user/.pyenv/versions/3.7.2/lib/python3.7/site-packages (from tensorflow) (1.26.0)\n",
      "Requirement already satisfied: scipy==1.4.1; python_version >= \"3\" in /home/python_user/.pyenv/versions/3.7.2/lib/python3.7/site-packages (from tensorflow) (1.4.1)\n",
      "Requirement already satisfied: gast==0.2.2 in /home/python_user/.pyenv/versions/3.7.2/lib/python3.7/site-packages (from tensorflow) (0.2.2)\n",
      "Requirement already satisfied: wrapt>=1.11.1 in /home/python_user/.pyenv/versions/3.7.2/lib/python3.7/site-packages (from tensorflow) (1.11.2)\n",
      "Requirement already satisfied: wheel>=0.26; python_version >= \"3\" in /home/python_user/.pyenv/versions/3.7.2/lib/python3.7/site-packages (from tensorflow) (0.33.6)\n",
      "Requirement already satisfied: absl-py>=0.7.0 in /home/python_user/.pyenv/versions/3.7.2/lib/python3.7/site-packages (from tensorflow) (0.9.0)\n",
      "Requirement already satisfied: keras-applications>=1.0.8 in /home/python_user/.pyenv/versions/3.7.2/lib/python3.7/site-packages (from tensorflow) (1.0.8)\n",
      "Requirement already satisfied: protobuf>=3.8.0 in /home/python_user/.pyenv/versions/3.7.2/lib/python3.7/site-packages (from tensorflow) (3.11.2)\n",
      "Requirement already satisfied: six>=1.12.0 in /home/python_user/.pyenv/versions/3.7.2/lib/python3.7/site-packages (from tensorflow) (1.14.0)\n",
      "Requirement already satisfied: tensorflow-estimator<2.2.0,>=2.1.0rc0 in /home/python_user/.pyenv/versions/3.7.2/lib/python3.7/site-packages (from tensorflow) (2.1.0)\n",
      "Requirement already satisfied: google-auth<2,>=1.6.3 in /home/python_user/.pyenv/versions/3.7.2/lib/python3.7/site-packages (from tensorboard<2.2.0,>=2.1.0->tensorflow) (1.10.2)\n",
      "Requirement already satisfied: markdown>=2.6.8 in /home/python_user/.pyenv/versions/3.7.2/lib/python3.7/site-packages (from tensorboard<2.2.0,>=2.1.0->tensorflow) (3.1.1)\n",
      "Requirement already satisfied: werkzeug>=0.11.15 in /home/python_user/.pyenv/versions/3.7.2/lib/python3.7/site-packages (from tensorboard<2.2.0,>=2.1.0->tensorflow) (0.16.0)\n",
      "Requirement already satisfied: requests<3,>=2.21.0 in /home/python_user/.pyenv/versions/3.7.2/lib/python3.7/site-packages (from tensorboard<2.2.0,>=2.1.0->tensorflow) (2.22.0)\n",
      "Requirement already satisfied: google-auth-oauthlib<0.5,>=0.4.1 in /home/python_user/.pyenv/versions/3.7.2/lib/python3.7/site-packages (from tensorboard<2.2.0,>=2.1.0->tensorflow) (0.4.1)\n",
      "Requirement already satisfied: setuptools>=41.0.0 in /home/python_user/.pyenv/versions/3.7.2/lib/python3.7/site-packages (from tensorboard<2.2.0,>=2.1.0->tensorflow) (45.1.0)\n",
      "Requirement already satisfied: h5py in /home/python_user/.pyenv/versions/3.7.2/lib/python3.7/site-packages (from keras-applications>=1.0.8->tensorflow) (2.10.0)\n",
      "Requirement already satisfied: cachetools<5.0,>=2.0.0 in /home/python_user/.pyenv/versions/3.7.2/lib/python3.7/site-packages (from google-auth<2,>=1.6.3->tensorboard<2.2.0,>=2.1.0->tensorflow) (4.0.0)\n",
      "Requirement already satisfied: pyasn1-modules>=0.2.1 in /home/python_user/.pyenv/versions/3.7.2/lib/python3.7/site-packages (from google-auth<2,>=1.6.3->tensorboard<2.2.0,>=2.1.0->tensorflow) (0.2.8)\n",
      "Requirement already satisfied: rsa<4.1,>=3.1.4 in /home/python_user/.pyenv/versions/3.7.2/lib/python3.7/site-packages (from google-auth<2,>=1.6.3->tensorboard<2.2.0,>=2.1.0->tensorflow) (4.0)\n",
      "Requirement already satisfied: chardet<3.1.0,>=3.0.2 in /home/python_user/.pyenv/versions/3.7.2/lib/python3.7/site-packages (from requests<3,>=2.21.0->tensorboard<2.2.0,>=2.1.0->tensorflow) (3.0.4)\n",
      "Requirement already satisfied: idna<2.9,>=2.5 in /home/python_user/.pyenv/versions/3.7.2/lib/python3.7/site-packages (from requests<3,>=2.21.0->tensorboard<2.2.0,>=2.1.0->tensorflow) (2.8)\n",
      "Requirement already satisfied: urllib3!=1.25.0,!=1.25.1,<1.26,>=1.21.1 in /home/python_user/.pyenv/versions/3.7.2/lib/python3.7/site-packages (from requests<3,>=2.21.0->tensorboard<2.2.0,>=2.1.0->tensorflow) (1.25.8)\n",
      "Requirement already satisfied: certifi>=2017.4.17 in /home/python_user/.pyenv/versions/3.7.2/lib/python3.7/site-packages (from requests<3,>=2.21.0->tensorboard<2.2.0,>=2.1.0->tensorflow) (2019.11.28)\n",
      "Requirement already satisfied: requests-oauthlib>=0.7.0 in /home/python_user/.pyenv/versions/3.7.2/lib/python3.7/site-packages (from google-auth-oauthlib<0.5,>=0.4.1->tensorboard<2.2.0,>=2.1.0->tensorflow) (1.3.0)\n",
      "Requirement already satisfied: pyasn1<0.5.0,>=0.4.6 in /home/python_user/.pyenv/versions/3.7.2/lib/python3.7/site-packages (from pyasn1-modules>=0.2.1->google-auth<2,>=1.6.3->tensorboard<2.2.0,>=2.1.0->tensorflow) (0.4.8)\n",
      "Requirement already satisfied: oauthlib>=3.0.0 in /home/python_user/.pyenv/versions/3.7.2/lib/python3.7/site-packages (from requests-oauthlib>=0.7.0->google-auth-oauthlib<0.5,>=0.4.1->tensorboard<2.2.0,>=2.1.0->tensorflow) (3.1.0)\n",
      "\u001b[33mWARNING: You are using pip version 20.0.1; however, version 20.0.2 is available.\n",
      "You should consider upgrading via the '/home/python_user/.pyenv/versions/3.7.2/bin/python3.7 -m pip install --upgrade pip' command.\u001b[0m\n"
     ]
    }
   ],
   "source": [
    "!pip install tensorflow"
   ]
  },
  {
   "cell_type": "code",
   "execution_count": 3,
   "metadata": {},
   "outputs": [],
   "source": [
    "import tensorflow as tf"
   ]
  },
  {
   "cell_type": "code",
   "execution_count": 4,
   "metadata": {},
   "outputs": [
    {
     "name": "stdout",
     "output_type": "stream",
     "text": [
      "Requirement already satisfied: pandas in /home/python_user/.pyenv/versions/3.7.2/lib/python3.7/site-packages (0.25.3)\n",
      "Requirement already satisfied: numpy>=1.13.3 in /home/python_user/.pyenv/versions/3.7.2/lib/python3.7/site-packages (from pandas) (1.18.1)\n",
      "Requirement already satisfied: pytz>=2017.2 in /home/python_user/.pyenv/versions/3.7.2/lib/python3.7/site-packages (from pandas) (2019.3)\n",
      "Requirement already satisfied: python-dateutil>=2.6.1 in /home/python_user/.pyenv/versions/3.7.2/lib/python3.7/site-packages (from pandas) (2.8.1)\n",
      "Requirement already satisfied: six>=1.5 in /home/python_user/.pyenv/versions/3.7.2/lib/python3.7/site-packages (from python-dateutil>=2.6.1->pandas) (1.14.0)\n",
      "\u001b[33mWARNING: You are using pip version 20.0.1; however, version 20.0.2 is available.\n",
      "You should consider upgrading via the '/home/python_user/.pyenv/versions/3.7.2/bin/python3.7 -m pip install --upgrade pip' command.\u001b[0m\n"
     ]
    }
   ],
   "source": [
    "!pip install pandas"
   ]
  },
  {
   "cell_type": "code",
   "execution_count": null,
   "metadata": {},
   "outputs": [],
   "source": []
  }
 ],
 "metadata": {
  "kernelspec": {
   "display_name": "Python 3",
   "language": "python",
   "name": "python3"
  },
  "language_info": {
   "codemirror_mode": {
    "name": "ipython",
    "version": 3
   },
   "file_extension": ".py",
   "mimetype": "text/x-python",
   "name": "python",
   "nbconvert_exporter": "python",
   "pygments_lexer": "ipython3",
   "version": "3.7.2"
  }
 },
 "nbformat": 4,
 "nbformat_minor": 4
}

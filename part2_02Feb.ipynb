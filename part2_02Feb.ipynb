{
  "nbformat": 4,
  "nbformat_minor": 0,
  "metadata": {
    "kernelspec": {
      "display_name": "Python 3",
      "language": "python",
      "name": "python3"
    },
    "language_info": {
      "codemirror_mode": {
        "name": "ipython",
        "version": 3
      },
      "file_extension": ".py",
      "mimetype": "text/x-python",
      "name": "python",
      "nbconvert_exporter": "python",
      "pygments_lexer": "ipython3",
      "version": "3.7.2"
    },
    "colab": {
      "name": "part2_answers.ipynb",
      "provenance": [],
      "include_colab_link": true
    }
  },
  "cells": [
    {
      "cell_type": "markdown",
      "metadata": {
        "id": "view-in-github",
        "colab_type": "text"
      },
      "source": [
        "<a href=\"https://colab.research.google.com/github/rajshekharM/new-jan-2020/blob/master/part2_02Feb.ipynb\" target=\"_parent\"><img src=\"https://colab.research.google.com/assets/colab-badge.svg\" alt=\"Open In Colab\"/></a>"
      ]
    },
    {
      "cell_type": "markdown",
      "metadata": {
        "id": "rHB3EwBkqCin",
        "colab_type": "text"
      },
      "source": [
        "# Please implement all functions required in this notebook and write your observations and discussions as comments or markdown cells inside the notebook. Please submit the jupyter notebook along with all files that are required in the tasks."
      ]
    },
    {
      "cell_type": "markdown",
      "metadata": {
        "id": "eW-FUB-VqCiq",
        "colab_type": "text"
      },
      "source": [
        "You are provided with a file `data.csv` that contains the number of bicycles observed in several places in Ottawa during 2010 to 2019. The csv file has the following columns:\n",
        "\n",
        "| column name | description |\n",
        "|:-------------:|:-------------:|\n",
        "| location_name | the location where the counter was installed |\n",
        "| count      | number of bicycles passed by |\n",
        "| max temp | maximum temperature (Celsius) |\n",
        "| mean temp | average temperature (Celsius) |\n",
        "| min temp | minimum temperature (Celsius) |\n",
        "| snow on grnd (cm) | snow on ground |\n",
        "| total precip (mm) | total precipitation |\n",
        "| total rain (mm) | total rain |\n",
        "| total snow (cm) | total snow |\n",
        "| date | date of recording |\n",
        "\n",
        "\n",
        "This part requires you to perform **data engineering**, **classical machine learning** methods and **neural networks** methods to solve a multi-class classification problem. All code should be written in Python (within the provided Jupyter Notebook environment) with or without (but not restricted to) the following packages:"
      ]
    },
    {
      "cell_type": "code",
      "metadata": {
        "id": "SX96Gu46qCis",
        "colab_type": "code",
        "colab": {}
      },
      "source": [
        "import pandas as pd\n",
        "import numpy as np\n",
        "import sklearn\n",
        "import scipy\n",
        "#import torch"
      ],
      "execution_count": 0,
      "outputs": []
    },
    {
      "cell_type": "markdown",
      "metadata": {
        "id": "05tgljmvqCiw",
        "colab_type": "text"
      },
      "source": [
        "If you wish to use any other dependencies, please add them at the end of `requirements.txt` file. All code should be run on a CPU machine."
      ]
    },
    {
      "cell_type": "markdown",
      "metadata": {
        "id": "8egjjBz0qCix",
        "colab_type": "text"
      },
      "source": [
        "**Task objective:** given an input of `date, max temp, mean temp, min temp, snow on grnd (cm), total precip (mm), total rain (mm), total snow (cm)`, predict whether the tota\n",
        "l number of bicycles observed in a day is ***less than 2000***, ***in between 2000 and 10k*** or ***over 10k***."
      ]
    },
    {
      "cell_type": "markdown",
      "metadata": {
        "id": "XjJC5SORqCiy",
        "colab_type": "text"
      },
      "source": [
        "Please read through all the items below before you start the task, and write down as many comments as you can."
      ]
    },
    {
      "cell_type": "markdown",
      "metadata": {
        "id": "nIKLhwdTqCiz",
        "colab_type": "text"
      },
      "source": [
        "## 1. Pre-processing"
      ]
    },
    {
      "cell_type": "markdown",
      "metadata": {
        "id": "Wtzt2dAKqCi0",
        "colab_type": "text"
      },
      "source": [
        "Please implement the function below which does the following two steps:\n",
        "\n",
        "1. First sum the counts at different locations in a day. In other words, you are creating a new `DataFrame` that contains the following columns:\n",
        "    - `date`\n",
        "    - `max temp`\n",
        "    - `mean temp`\n",
        "    - `min temp`\n",
        "    - `snow on grnd (cm)`\n",
        "    - `total precip (mm)`\n",
        "    - `total rain (mm)`\n",
        "    - `total snow (cm)`\n",
        "    - `total count`\n",
        "    \n",
        "\n",
        "2. Convert the numerical column `total count` into three categories: *less than 2000*, *2000 to 10000* and *over 10000*. Save the `processed_df` to `processed_data.csv`."
      ]
    },
    {
      "cell_type": "code",
      "metadata": {
        "id": "4hYDoYXvqVdS",
        "colab_type": "code",
        "colab": {}
      },
      "source": [
        "df = pd.read_csv(\"data.csv\")"
      ],
      "execution_count": 0,
      "outputs": []
    },
    {
      "cell_type": "code",
      "metadata": {
        "id": "hvpqkgJw4oDD",
        "colab_type": "code",
        "colab": {
          "base_uri": "https://localhost:8080/",
          "height": 204
        },
        "outputId": "205ca4fd-c368-4824-faa1-d476caa5fd3e"
      },
      "source": [
        "df.count()"
      ],
      "execution_count": 79,
      "outputs": [
        {
          "output_type": "execute_result",
          "data": {
            "text/plain": [
              "location_name        23028\n",
              "count                23028\n",
              "max temp             22922\n",
              "mean temp            22922\n",
              "min temp             22922\n",
              "snow on grnd (cm)    22908\n",
              "total precip (mm)    22908\n",
              "total rain (mm)      22908\n",
              "total snow (cm)      22908\n",
              "date                 23028\n",
              "dtype: int64"
            ]
          },
          "metadata": {
            "tags": []
          },
          "execution_count": 79
        }
      ]
    },
    {
      "cell_type": "code",
      "metadata": {
        "id": "9udFt7xl2a5r",
        "colab_type": "code",
        "colab": {
          "base_uri": "https://localhost:8080/",
          "height": 34
        },
        "outputId": "ceaf7160-93bb-481b-b1b3-597813ee3963"
      },
      "source": [
        "df.index.duplicated('date')"
      ],
      "execution_count": 74,
      "outputs": [
        {
          "output_type": "execute_result",
          "data": {
            "text/plain": [
              "array([False, False, False, ..., False, False, False])"
            ]
          },
          "metadata": {
            "tags": []
          },
          "execution_count": 74
        }
      ]
    },
    {
      "cell_type": "code",
      "metadata": {
        "id": "ysc3kdq69GFk",
        "colab_type": "code",
        "colab": {
          "base_uri": "https://localhost:8080/",
          "height": 34
        },
        "outputId": "56264ba1-3406-4f26-e69c-7f2e1d5fdcc3"
      },
      "source": [
        "df.shape"
      ],
      "execution_count": 97,
      "outputs": [
        {
          "output_type": "execute_result",
          "data": {
            "text/plain": [
              "(23028, 10)"
            ]
          },
          "metadata": {
            "tags": []
          },
          "execution_count": 97
        }
      ]
    },
    {
      "cell_type": "code",
      "metadata": {
        "id": "UdP2TPN4qePZ",
        "colab_type": "code",
        "colab": {
          "base_uri": "https://localhost:8080/",
          "height": 979
        },
        "outputId": "3735f262-b925-4674-f7a1-8b9d82fedf83"
      },
      "source": [
        "df.head(30)"
      ],
      "execution_count": 96,
      "outputs": [
        {
          "output_type": "execute_result",
          "data": {
            "text/html": [
              "<div>\n",
              "<style scoped>\n",
              "    .dataframe tbody tr th:only-of-type {\n",
              "        vertical-align: middle;\n",
              "    }\n",
              "\n",
              "    .dataframe tbody tr th {\n",
              "        vertical-align: top;\n",
              "    }\n",
              "\n",
              "    .dataframe thead th {\n",
              "        text-align: right;\n",
              "    }\n",
              "</style>\n",
              "<table border=\"1\" class=\"dataframe\">\n",
              "  <thead>\n",
              "    <tr style=\"text-align: right;\">\n",
              "      <th></th>\n",
              "      <th>location_name</th>\n",
              "      <th>count</th>\n",
              "      <th>max temp</th>\n",
              "      <th>mean temp</th>\n",
              "      <th>min temp</th>\n",
              "      <th>snow on grnd (cm)</th>\n",
              "      <th>total precip (mm)</th>\n",
              "      <th>total rain (mm)</th>\n",
              "      <th>total snow (cm)</th>\n",
              "      <th>date</th>\n",
              "    </tr>\n",
              "  </thead>\n",
              "  <tbody>\n",
              "    <tr>\n",
              "      <th>0</th>\n",
              "      <td>ALEX</td>\n",
              "      <td>0</td>\n",
              "      <td>-14.0</td>\n",
              "      <td>-18.2</td>\n",
              "      <td>-22.3</td>\n",
              "      <td>27.0</td>\n",
              "      <td>0.3</td>\n",
              "      <td>0.0</td>\n",
              "      <td>0.3</td>\n",
              "      <td>2015-02-20</td>\n",
              "    </tr>\n",
              "    <tr>\n",
              "      <th>1</th>\n",
              "      <td>ADAWE BIKE</td>\n",
              "      <td>968</td>\n",
              "      <td>29.5</td>\n",
              "      <td>23.8</td>\n",
              "      <td>18.0</td>\n",
              "      <td>0.0</td>\n",
              "      <td>2.8</td>\n",
              "      <td>2.8</td>\n",
              "      <td>0.0</td>\n",
              "      <td>2016-08-28</td>\n",
              "    </tr>\n",
              "    <tr>\n",
              "      <th>2</th>\n",
              "      <td>COBY</td>\n",
              "      <td>10</td>\n",
              "      <td>-3.0</td>\n",
              "      <td>-9.3</td>\n",
              "      <td>-15.6</td>\n",
              "      <td>1.0</td>\n",
              "      <td>7.0</td>\n",
              "      <td>0.0</td>\n",
              "      <td>9.5</td>\n",
              "      <td>2011-12-25</td>\n",
              "    </tr>\n",
              "    <tr>\n",
              "      <th>3</th>\n",
              "      <td>SOMO</td>\n",
              "      <td>122</td>\n",
              "      <td>14.0</td>\n",
              "      <td>8.8</td>\n",
              "      <td>3.5</td>\n",
              "      <td>0.0</td>\n",
              "      <td>34.4</td>\n",
              "      <td>34.4</td>\n",
              "      <td>0.0</td>\n",
              "      <td>2017-05-01</td>\n",
              "    </tr>\n",
              "    <tr>\n",
              "      <th>4</th>\n",
              "      <td>OYNG</td>\n",
              "      <td>228</td>\n",
              "      <td>15.2</td>\n",
              "      <td>9.4</td>\n",
              "      <td>3.5</td>\n",
              "      <td>0.0</td>\n",
              "      <td>0.0</td>\n",
              "      <td>0.0</td>\n",
              "      <td>0.0</td>\n",
              "      <td>2015-04-27</td>\n",
              "    </tr>\n",
              "    <tr>\n",
              "      <th>5</th>\n",
              "      <td>COBY</td>\n",
              "      <td>95</td>\n",
              "      <td>0.2</td>\n",
              "      <td>-2.9</td>\n",
              "      <td>-6.0</td>\n",
              "      <td>0.0</td>\n",
              "      <td>1.0</td>\n",
              "      <td>1.0</td>\n",
              "      <td>0.0</td>\n",
              "      <td>2010-11-21</td>\n",
              "    </tr>\n",
              "    <tr>\n",
              "      <th>6</th>\n",
              "      <td>COBY</td>\n",
              "      <td>102</td>\n",
              "      <td>1.9</td>\n",
              "      <td>-6.3</td>\n",
              "      <td>-14.5</td>\n",
              "      <td>38.0</td>\n",
              "      <td>2.3</td>\n",
              "      <td>0.0</td>\n",
              "      <td>2.5</td>\n",
              "      <td>2014-03-27</td>\n",
              "    </tr>\n",
              "    <tr>\n",
              "      <th>7</th>\n",
              "      <td>SOMO</td>\n",
              "      <td>73</td>\n",
              "      <td>6.5</td>\n",
              "      <td>2.9</td>\n",
              "      <td>-0.8</td>\n",
              "      <td>35.0</td>\n",
              "      <td>0.6</td>\n",
              "      <td>0.6</td>\n",
              "      <td>0.0</td>\n",
              "      <td>2013-01-12</td>\n",
              "    </tr>\n",
              "    <tr>\n",
              "      <th>8</th>\n",
              "      <td>ORPY</td>\n",
              "      <td>1219</td>\n",
              "      <td>18.2</td>\n",
              "      <td>10.9</td>\n",
              "      <td>3.6</td>\n",
              "      <td>0.0</td>\n",
              "      <td>0.0</td>\n",
              "      <td>0.0</td>\n",
              "      <td>0.0</td>\n",
              "      <td>2012-09-16</td>\n",
              "    </tr>\n",
              "    <tr>\n",
              "      <th>9</th>\n",
              "      <td>ALEX</td>\n",
              "      <td>4</td>\n",
              "      <td>7.5</td>\n",
              "      <td>-1.0</td>\n",
              "      <td>-9.5</td>\n",
              "      <td>47.0</td>\n",
              "      <td>0.0</td>\n",
              "      <td>0.0</td>\n",
              "      <td>0.0</td>\n",
              "      <td>2013-03-09</td>\n",
              "    </tr>\n",
              "    <tr>\n",
              "      <th>10</th>\n",
              "      <td>COBY</td>\n",
              "      <td>36</td>\n",
              "      <td>-1.7</td>\n",
              "      <td>-5.8</td>\n",
              "      <td>-9.8</td>\n",
              "      <td>17.0</td>\n",
              "      <td>0.0</td>\n",
              "      <td>0.0</td>\n",
              "      <td>0.0</td>\n",
              "      <td>2011-03-02</td>\n",
              "    </tr>\n",
              "    <tr>\n",
              "      <th>11</th>\n",
              "      <td>ORPY</td>\n",
              "      <td>2957</td>\n",
              "      <td>19.5</td>\n",
              "      <td>13.5</td>\n",
              "      <td>7.5</td>\n",
              "      <td>0.0</td>\n",
              "      <td>3.6</td>\n",
              "      <td>3.6</td>\n",
              "      <td>0.0</td>\n",
              "      <td>2016-06-10</td>\n",
              "    </tr>\n",
              "    <tr>\n",
              "      <th>12</th>\n",
              "      <td>SOMO</td>\n",
              "      <td>606</td>\n",
              "      <td>6.1</td>\n",
              "      <td>2.1</td>\n",
              "      <td>-1.9</td>\n",
              "      <td>0.0</td>\n",
              "      <td>0.0</td>\n",
              "      <td>0.0</td>\n",
              "      <td>0.0</td>\n",
              "      <td>2013-10-24</td>\n",
              "    </tr>\n",
              "    <tr>\n",
              "      <th>13</th>\n",
              "      <td>OGLD</td>\n",
              "      <td>66</td>\n",
              "      <td>7.0</td>\n",
              "      <td>-2.3</td>\n",
              "      <td>-11.5</td>\n",
              "      <td>18.0</td>\n",
              "      <td>0.0</td>\n",
              "      <td>0.0</td>\n",
              "      <td>0.0</td>\n",
              "      <td>2017-03-19</td>\n",
              "    </tr>\n",
              "    <tr>\n",
              "      <th>14</th>\n",
              "      <td>ORPY</td>\n",
              "      <td>1520</td>\n",
              "      <td>12.0</td>\n",
              "      <td>7.5</td>\n",
              "      <td>3.0</td>\n",
              "      <td>0.0</td>\n",
              "      <td>0.0</td>\n",
              "      <td>0.0</td>\n",
              "      <td>0.0</td>\n",
              "      <td>2017-10-26</td>\n",
              "    </tr>\n",
              "    <tr>\n",
              "      <th>15</th>\n",
              "      <td>COBY</td>\n",
              "      <td>1706</td>\n",
              "      <td>25.3</td>\n",
              "      <td>21.6</td>\n",
              "      <td>17.8</td>\n",
              "      <td>0.0</td>\n",
              "      <td>0.0</td>\n",
              "      <td>0.0</td>\n",
              "      <td>0.0</td>\n",
              "      <td>2012-07-08</td>\n",
              "    </tr>\n",
              "    <tr>\n",
              "      <th>16</th>\n",
              "      <td>ADAWE BIKE</td>\n",
              "      <td>302</td>\n",
              "      <td>0.5</td>\n",
              "      <td>-1.3</td>\n",
              "      <td>-3.0</td>\n",
              "      <td>5.0</td>\n",
              "      <td>0.0</td>\n",
              "      <td>0.0</td>\n",
              "      <td>0.0</td>\n",
              "      <td>2016-11-22</td>\n",
              "    </tr>\n",
              "    <tr>\n",
              "      <th>17</th>\n",
              "      <td>LLYN</td>\n",
              "      <td>18</td>\n",
              "      <td>-6.5</td>\n",
              "      <td>-15.4</td>\n",
              "      <td>-24.3</td>\n",
              "      <td>10.0</td>\n",
              "      <td>3.9</td>\n",
              "      <td>0.0</td>\n",
              "      <td>3.9</td>\n",
              "      <td>2016-02-15</td>\n",
              "    </tr>\n",
              "    <tr>\n",
              "      <th>18</th>\n",
              "      <td>ALEX</td>\n",
              "      <td>431</td>\n",
              "      <td>28.0</td>\n",
              "      <td>17.5</td>\n",
              "      <td>7.0</td>\n",
              "      <td>0.0</td>\n",
              "      <td>0.0</td>\n",
              "      <td>0.0</td>\n",
              "      <td>0.0</td>\n",
              "      <td>2018-10-09</td>\n",
              "    </tr>\n",
              "    <tr>\n",
              "      <th>19</th>\n",
              "      <td>ALEX</td>\n",
              "      <td>2033</td>\n",
              "      <td>28.3</td>\n",
              "      <td>20.1</td>\n",
              "      <td>11.9</td>\n",
              "      <td>0.0</td>\n",
              "      <td>0.0</td>\n",
              "      <td>0.0</td>\n",
              "      <td>0.0</td>\n",
              "      <td>2012-05-19</td>\n",
              "    </tr>\n",
              "    <tr>\n",
              "      <th>20</th>\n",
              "      <td>ORPY</td>\n",
              "      <td>2637</td>\n",
              "      <td>22.2</td>\n",
              "      <td>15.7</td>\n",
              "      <td>9.1</td>\n",
              "      <td>0.0</td>\n",
              "      <td>0.4</td>\n",
              "      <td>0.4</td>\n",
              "      <td>0.0</td>\n",
              "      <td>2013-10-03</td>\n",
              "    </tr>\n",
              "    <tr>\n",
              "      <th>21</th>\n",
              "      <td>COBY</td>\n",
              "      <td>19</td>\n",
              "      <td>-6.0</td>\n",
              "      <td>-7.4</td>\n",
              "      <td>-8.8</td>\n",
              "      <td>13.0</td>\n",
              "      <td>0.8</td>\n",
              "      <td>0.0</td>\n",
              "      <td>1.6</td>\n",
              "      <td>2011-01-29</td>\n",
              "    </tr>\n",
              "    <tr>\n",
              "      <th>22</th>\n",
              "      <td>ALEX</td>\n",
              "      <td>2527</td>\n",
              "      <td>21.2</td>\n",
              "      <td>17.5</td>\n",
              "      <td>13.8</td>\n",
              "      <td>0.0</td>\n",
              "      <td>0.0</td>\n",
              "      <td>0.0</td>\n",
              "      <td>0.0</td>\n",
              "      <td>2015-05-16</td>\n",
              "    </tr>\n",
              "    <tr>\n",
              "      <th>23</th>\n",
              "      <td>LMET</td>\n",
              "      <td>597</td>\n",
              "      <td>6.5</td>\n",
              "      <td>3.4</td>\n",
              "      <td>0.3</td>\n",
              "      <td>0.0</td>\n",
              "      <td>0.0</td>\n",
              "      <td>0.0</td>\n",
              "      <td>0.0</td>\n",
              "      <td>2015-12-04</td>\n",
              "    </tr>\n",
              "    <tr>\n",
              "      <th>24</th>\n",
              "      <td>COBY</td>\n",
              "      <td>547</td>\n",
              "      <td>10.2</td>\n",
              "      <td>3.6</td>\n",
              "      <td>-3.1</td>\n",
              "      <td>0.0</td>\n",
              "      <td>0.0</td>\n",
              "      <td>0.0</td>\n",
              "      <td>0.0</td>\n",
              "      <td>2012-11-21</td>\n",
              "    </tr>\n",
              "    <tr>\n",
              "      <th>25</th>\n",
              "      <td>ADAWE PED</td>\n",
              "      <td>1942</td>\n",
              "      <td>25.5</td>\n",
              "      <td>19.3</td>\n",
              "      <td>13.0</td>\n",
              "      <td>0.0</td>\n",
              "      <td>0.0</td>\n",
              "      <td>0.0</td>\n",
              "      <td>0.0</td>\n",
              "      <td>2016-05-22</td>\n",
              "    </tr>\n",
              "    <tr>\n",
              "      <th>26</th>\n",
              "      <td>COBY</td>\n",
              "      <td>2044</td>\n",
              "      <td>17.0</td>\n",
              "      <td>12.8</td>\n",
              "      <td>8.5</td>\n",
              "      <td>0.0</td>\n",
              "      <td>0.0</td>\n",
              "      <td>0.0</td>\n",
              "      <td>0.0</td>\n",
              "      <td>2018-09-08</td>\n",
              "    </tr>\n",
              "    <tr>\n",
              "      <th>27</th>\n",
              "      <td>PORTAGE</td>\n",
              "      <td>744</td>\n",
              "      <td>25.3</td>\n",
              "      <td>21.1</td>\n",
              "      <td>16.9</td>\n",
              "      <td>0.0</td>\n",
              "      <td>0.0</td>\n",
              "      <td>0.0</td>\n",
              "      <td>0.0</td>\n",
              "      <td>2015-08-31</td>\n",
              "    </tr>\n",
              "    <tr>\n",
              "      <th>28</th>\n",
              "      <td>ADAWE BIKE</td>\n",
              "      <td>1532</td>\n",
              "      <td>19.0</td>\n",
              "      <td>13.3</td>\n",
              "      <td>7.5</td>\n",
              "      <td>0.0</td>\n",
              "      <td>0.0</td>\n",
              "      <td>0.0</td>\n",
              "      <td>0.0</td>\n",
              "      <td>2016-06-09</td>\n",
              "    </tr>\n",
              "    <tr>\n",
              "      <th>29</th>\n",
              "      <td>ORPY</td>\n",
              "      <td>359</td>\n",
              "      <td>11.0</td>\n",
              "      <td>8.5</td>\n",
              "      <td>6.0</td>\n",
              "      <td>0.0</td>\n",
              "      <td>0.0</td>\n",
              "      <td>0.0</td>\n",
              "      <td>0.0</td>\n",
              "      <td>2011-11-26</td>\n",
              "    </tr>\n",
              "  </tbody>\n",
              "</table>\n",
              "</div>"
            ],
            "text/plain": [
              "   location_name  count  max temp  ...  total rain (mm)  total snow (cm)        date\n",
              "0           ALEX      0     -14.0  ...              0.0              0.3  2015-02-20\n",
              "1     ADAWE BIKE    968      29.5  ...              2.8              0.0  2016-08-28\n",
              "2           COBY     10      -3.0  ...              0.0              9.5  2011-12-25\n",
              "3           SOMO    122      14.0  ...             34.4              0.0  2017-05-01\n",
              "4           OYNG    228      15.2  ...              0.0              0.0  2015-04-27\n",
              "5           COBY     95       0.2  ...              1.0              0.0  2010-11-21\n",
              "6           COBY    102       1.9  ...              0.0              2.5  2014-03-27\n",
              "7           SOMO     73       6.5  ...              0.6              0.0  2013-01-12\n",
              "8           ORPY   1219      18.2  ...              0.0              0.0  2012-09-16\n",
              "9           ALEX      4       7.5  ...              0.0              0.0  2013-03-09\n",
              "10          COBY     36      -1.7  ...              0.0              0.0  2011-03-02\n",
              "11          ORPY   2957      19.5  ...              3.6              0.0  2016-06-10\n",
              "12          SOMO    606       6.1  ...              0.0              0.0  2013-10-24\n",
              "13          OGLD     66       7.0  ...              0.0              0.0  2017-03-19\n",
              "14          ORPY   1520      12.0  ...              0.0              0.0  2017-10-26\n",
              "15          COBY   1706      25.3  ...              0.0              0.0  2012-07-08\n",
              "16    ADAWE BIKE    302       0.5  ...              0.0              0.0  2016-11-22\n",
              "17          LLYN     18      -6.5  ...              0.0              3.9  2016-02-15\n",
              "18          ALEX    431      28.0  ...              0.0              0.0  2018-10-09\n",
              "19          ALEX   2033      28.3  ...              0.0              0.0  2012-05-19\n",
              "20          ORPY   2637      22.2  ...              0.4              0.0  2013-10-03\n",
              "21          COBY     19      -6.0  ...              0.0              1.6  2011-01-29\n",
              "22          ALEX   2527      21.2  ...              0.0              0.0  2015-05-16\n",
              "23          LMET    597       6.5  ...              0.0              0.0  2015-12-04\n",
              "24          COBY    547      10.2  ...              0.0              0.0  2012-11-21\n",
              "25     ADAWE PED   1942      25.5  ...              0.0              0.0  2016-05-22\n",
              "26          COBY   2044      17.0  ...              0.0              0.0  2018-09-08\n",
              "27       PORTAGE    744      25.3  ...              0.0              0.0  2015-08-31\n",
              "28    ADAWE BIKE   1532      19.0  ...              0.0              0.0  2016-06-09\n",
              "29          ORPY    359      11.0  ...              0.0              0.0  2011-11-26\n",
              "\n",
              "[30 rows x 10 columns]"
            ]
          },
          "metadata": {
            "tags": []
          },
          "execution_count": 96
        }
      ]
    },
    {
      "cell_type": "code",
      "metadata": {
        "id": "rvJd6kkayc2y",
        "colab_type": "code",
        "colab": {
          "base_uri": "https://localhost:8080/",
          "height": 170
        },
        "outputId": "528bf90d-75e1-4ac6-87e4-084ee9f568af"
      },
      "source": [
        "df[df.location_name == 'ALEX'].mean()"
      ],
      "execution_count": 129,
      "outputs": [
        {
          "output_type": "execute_result",
          "data": {
            "text/plain": [
              "count                953.079541\n",
              "max temp              13.032156\n",
              "mean temp              8.254466\n",
              "min temp               3.453355\n",
              "snow on grnd (cm)      5.209376\n",
              "total precip (mm)      2.582916\n",
              "total rain (mm)        2.194438\n",
              "total snow (cm)        0.441359\n",
              "dtype: float64"
            ]
          },
          "metadata": {
            "tags": []
          },
          "execution_count": 129
        }
      ]
    },
    {
      "cell_type": "code",
      "metadata": {
        "id": "2ulNF2Vwv_nf",
        "colab_type": "code",
        "colab": {
          "base_uri": "https://localhost:8080/",
          "height": 51
        },
        "outputId": "f4560ffc-b668-49bc-b8ff-89e4ccef5c5d"
      },
      "source": [
        "df1[['count']].max()"
      ],
      "execution_count": 85,
      "outputs": [
        {
          "output_type": "execute_result",
          "data": {
            "text/plain": [
              "count    7617\n",
              "dtype: int64"
            ]
          },
          "metadata": {
            "tags": []
          },
          "execution_count": 85
        }
      ]
    },
    {
      "cell_type": "code",
      "metadata": {
        "id": "2XWMD5808fOj",
        "colab_type": "code",
        "colab": {}
      },
      "source": [
        ""
      ],
      "execution_count": 0,
      "outputs": []
    },
    {
      "cell_type": "code",
      "metadata": {
        "id": "9YWHrOqQzYVB",
        "colab_type": "code",
        "colab": {
          "base_uri": "https://localhost:8080/",
          "height": 51
        },
        "outputId": "97912b3d-656d-4d7a-954d-2d0c284dceef"
      },
      "source": [
        "df1[['total snow (cm)']].mean()"
      ],
      "execution_count": 82,
      "outputs": [
        {
          "output_type": "execute_result",
          "data": {
            "text/plain": [
              "total snow (cm)    0.49589\n",
              "dtype: float64"
            ]
          },
          "metadata": {
            "tags": []
          },
          "execution_count": 82
        }
      ]
    },
    {
      "cell_type": "code",
      "metadata": {
        "id": "UFQrcSyh8f8q",
        "colab_type": "code",
        "colab": {}
      },
      "source": [
        "df3=df1.groupby(['date']).max()"
      ],
      "execution_count": 0,
      "outputs": []
    },
    {
      "cell_type": "code",
      "metadata": {
        "id": "965cGYqq_EIV",
        "colab_type": "code",
        "colab": {}
      },
      "source": [
        "df3=df3.drop(['location_name','count'],axis=1)"
      ],
      "execution_count": 0,
      "outputs": []
    },
    {
      "cell_type": "code",
      "metadata": {
        "id": "LMKyR-Fk_1Zn",
        "colab_type": "code",
        "colab": {
          "base_uri": "https://localhost:8080/",
          "height": 235
        },
        "outputId": "aae41ab1-e9ff-465c-85eb-7390b79e4d52"
      },
      "source": [
        "df3.head()"
      ],
      "execution_count": 114,
      "outputs": [
        {
          "output_type": "execute_result",
          "data": {
            "text/html": [
              "<div>\n",
              "<style scoped>\n",
              "    .dataframe tbody tr th:only-of-type {\n",
              "        vertical-align: middle;\n",
              "    }\n",
              "\n",
              "    .dataframe tbody tr th {\n",
              "        vertical-align: top;\n",
              "    }\n",
              "\n",
              "    .dataframe thead th {\n",
              "        text-align: right;\n",
              "    }\n",
              "</style>\n",
              "<table border=\"1\" class=\"dataframe\">\n",
              "  <thead>\n",
              "    <tr style=\"text-align: right;\">\n",
              "      <th></th>\n",
              "      <th>max temp</th>\n",
              "      <th>mean temp</th>\n",
              "      <th>min temp</th>\n",
              "      <th>snow on grnd (cm)</th>\n",
              "      <th>total precip (mm)</th>\n",
              "      <th>total rain (mm)</th>\n",
              "      <th>total snow (cm)</th>\n",
              "    </tr>\n",
              "    <tr>\n",
              "      <th>date</th>\n",
              "      <th></th>\n",
              "      <th></th>\n",
              "      <th></th>\n",
              "      <th></th>\n",
              "      <th></th>\n",
              "      <th></th>\n",
              "      <th></th>\n",
              "    </tr>\n",
              "  </thead>\n",
              "  <tbody>\n",
              "    <tr>\n",
              "      <th>2010-01-01</th>\n",
              "      <td>-2.5</td>\n",
              "      <td>-4.1</td>\n",
              "      <td>-5.7</td>\n",
              "      <td>18.0</td>\n",
              "      <td>5.0</td>\n",
              "      <td>0.0</td>\n",
              "      <td>7.6</td>\n",
              "    </tr>\n",
              "    <tr>\n",
              "      <th>2010-01-02</th>\n",
              "      <td>-11.9</td>\n",
              "      <td>-13.3</td>\n",
              "      <td>-14.6</td>\n",
              "      <td>21.0</td>\n",
              "      <td>1.9</td>\n",
              "      <td>0.0</td>\n",
              "      <td>2.6</td>\n",
              "    </tr>\n",
              "    <tr>\n",
              "      <th>2010-01-03</th>\n",
              "      <td>-7.8</td>\n",
              "      <td>-11.4</td>\n",
              "      <td>-15.0</td>\n",
              "      <td>21.0</td>\n",
              "      <td>2.0</td>\n",
              "      <td>0.0</td>\n",
              "      <td>3.0</td>\n",
              "    </tr>\n",
              "    <tr>\n",
              "      <th>2010-01-04</th>\n",
              "      <td>-7.5</td>\n",
              "      <td>-9.0</td>\n",
              "      <td>-10.5</td>\n",
              "      <td>21.0</td>\n",
              "      <td>1.0</td>\n",
              "      <td>0.0</td>\n",
              "      <td>2.0</td>\n",
              "    </tr>\n",
              "    <tr>\n",
              "      <th>2010-01-05</th>\n",
              "      <td>-5.0</td>\n",
              "      <td>-7.8</td>\n",
              "      <td>-10.6</td>\n",
              "      <td>21.0</td>\n",
              "      <td>1.0</td>\n",
              "      <td>0.0</td>\n",
              "      <td>1.5</td>\n",
              "    </tr>\n",
              "  </tbody>\n",
              "</table>\n",
              "</div>"
            ],
            "text/plain": [
              "            max temp  mean temp  ...  total rain (mm)  total snow (cm)\n",
              "date                             ...                                  \n",
              "2010-01-01      -2.5       -4.1  ...              0.0              7.6\n",
              "2010-01-02     -11.9      -13.3  ...              0.0              2.6\n",
              "2010-01-03      -7.8      -11.4  ...              0.0              3.0\n",
              "2010-01-04      -7.5       -9.0  ...              0.0              2.0\n",
              "2010-01-05      -5.0       -7.8  ...              0.0              1.5\n",
              "\n",
              "[5 rows x 7 columns]"
            ]
          },
          "metadata": {
            "tags": []
          },
          "execution_count": 114
        }
      ]
    },
    {
      "cell_type": "code",
      "metadata": {
        "id": "PYP4RZJ1EHut",
        "colab_type": "code",
        "colab": {}
      },
      "source": [
        "df_total=df.groupby('date').sum()[['count']]"
      ],
      "execution_count": 0,
      "outputs": []
    },
    {
      "cell_type": "code",
      "metadata": {
        "id": "oucB--1LsNVR",
        "colab_type": "code",
        "colab": {}
      },
      "source": [
        "df_total=df.groupby('date').sum()[['count']].rename(columns={'count':'total count'})"
      ],
      "execution_count": 0,
      "outputs": []
    },
    {
      "cell_type": "code",
      "metadata": {
        "id": "XUBV1KbKv-45",
        "colab_type": "code",
        "colab": {
          "base_uri": "https://localhost:8080/",
          "height": 235
        },
        "outputId": "65705c00-c1f1-4aa6-a695-496895103f4a"
      },
      "source": [
        "df_total.head()"
      ],
      "execution_count": 118,
      "outputs": [
        {
          "output_type": "execute_result",
          "data": {
            "text/html": [
              "<div>\n",
              "<style scoped>\n",
              "    .dataframe tbody tr th:only-of-type {\n",
              "        vertical-align: middle;\n",
              "    }\n",
              "\n",
              "    .dataframe tbody tr th {\n",
              "        vertical-align: top;\n",
              "    }\n",
              "\n",
              "    .dataframe thead th {\n",
              "        text-align: right;\n",
              "    }\n",
              "</style>\n",
              "<table border=\"1\" class=\"dataframe\">\n",
              "  <thead>\n",
              "    <tr style=\"text-align: right;\">\n",
              "      <th></th>\n",
              "      <th>total count</th>\n",
              "    </tr>\n",
              "    <tr>\n",
              "      <th>date</th>\n",
              "      <th></th>\n",
              "    </tr>\n",
              "  </thead>\n",
              "  <tbody>\n",
              "    <tr>\n",
              "      <th>2010-01-01</th>\n",
              "      <td>0</td>\n",
              "    </tr>\n",
              "    <tr>\n",
              "      <th>2010-01-02</th>\n",
              "      <td>0</td>\n",
              "    </tr>\n",
              "    <tr>\n",
              "      <th>2010-01-03</th>\n",
              "      <td>0</td>\n",
              "    </tr>\n",
              "    <tr>\n",
              "      <th>2010-01-04</th>\n",
              "      <td>0</td>\n",
              "    </tr>\n",
              "    <tr>\n",
              "      <th>2010-01-05</th>\n",
              "      <td>0</td>\n",
              "    </tr>\n",
              "  </tbody>\n",
              "</table>\n",
              "</div>"
            ],
            "text/plain": [
              "            total count\n",
              "date                   \n",
              "2010-01-01            0\n",
              "2010-01-02            0\n",
              "2010-01-03            0\n",
              "2010-01-04            0\n",
              "2010-01-05            0"
            ]
          },
          "metadata": {
            "tags": []
          },
          "execution_count": 118
        }
      ]
    },
    {
      "cell_type": "code",
      "metadata": {
        "id": "0H4TU0LksPSX",
        "colab_type": "code",
        "colab": {}
      },
      "source": [
        "df_final=pd.merge(df3,df_total, on='date')"
      ],
      "execution_count": 0,
      "outputs": []
    },
    {
      "cell_type": "code",
      "metadata": {
        "id": "qf9omcxQCzg-",
        "colab_type": "code",
        "colab": {
          "base_uri": "https://localhost:8080/",
          "height": 1000
        },
        "outputId": "bc902fa0-6d6a-4e3c-fcf9-5a98b7e4b1fb"
      },
      "source": [
        "df_final.head(30)"
      ],
      "execution_count": 130,
      "outputs": [
        {
          "output_type": "execute_result",
          "data": {
            "text/html": [
              "<div>\n",
              "<style scoped>\n",
              "    .dataframe tbody tr th:only-of-type {\n",
              "        vertical-align: middle;\n",
              "    }\n",
              "\n",
              "    .dataframe tbody tr th {\n",
              "        vertical-align: top;\n",
              "    }\n",
              "\n",
              "    .dataframe thead th {\n",
              "        text-align: right;\n",
              "    }\n",
              "</style>\n",
              "<table border=\"1\" class=\"dataframe\">\n",
              "  <thead>\n",
              "    <tr style=\"text-align: right;\">\n",
              "      <th></th>\n",
              "      <th>max temp</th>\n",
              "      <th>mean temp</th>\n",
              "      <th>min temp</th>\n",
              "      <th>snow on grnd (cm)</th>\n",
              "      <th>total precip (mm)</th>\n",
              "      <th>total rain (mm)</th>\n",
              "      <th>total snow (cm)</th>\n",
              "      <th>total count</th>\n",
              "    </tr>\n",
              "    <tr>\n",
              "      <th>date</th>\n",
              "      <th></th>\n",
              "      <th></th>\n",
              "      <th></th>\n",
              "      <th></th>\n",
              "      <th></th>\n",
              "      <th></th>\n",
              "      <th></th>\n",
              "      <th></th>\n",
              "    </tr>\n",
              "  </thead>\n",
              "  <tbody>\n",
              "    <tr>\n",
              "      <th>2010-01-01</th>\n",
              "      <td>-2.5</td>\n",
              "      <td>-4.1</td>\n",
              "      <td>-5.7</td>\n",
              "      <td>18.0</td>\n",
              "      <td>5.0</td>\n",
              "      <td>0.0</td>\n",
              "      <td>7.6</td>\n",
              "      <td>0</td>\n",
              "    </tr>\n",
              "    <tr>\n",
              "      <th>2010-01-02</th>\n",
              "      <td>-11.9</td>\n",
              "      <td>-13.3</td>\n",
              "      <td>-14.6</td>\n",
              "      <td>21.0</td>\n",
              "      <td>1.9</td>\n",
              "      <td>0.0</td>\n",
              "      <td>2.6</td>\n",
              "      <td>0</td>\n",
              "    </tr>\n",
              "    <tr>\n",
              "      <th>2010-01-03</th>\n",
              "      <td>-7.8</td>\n",
              "      <td>-11.4</td>\n",
              "      <td>-15.0</td>\n",
              "      <td>21.0</td>\n",
              "      <td>2.0</td>\n",
              "      <td>0.0</td>\n",
              "      <td>3.0</td>\n",
              "      <td>0</td>\n",
              "    </tr>\n",
              "    <tr>\n",
              "      <th>2010-01-04</th>\n",
              "      <td>-7.5</td>\n",
              "      <td>-9.0</td>\n",
              "      <td>-10.5</td>\n",
              "      <td>21.0</td>\n",
              "      <td>1.0</td>\n",
              "      <td>0.0</td>\n",
              "      <td>2.0</td>\n",
              "      <td>0</td>\n",
              "    </tr>\n",
              "    <tr>\n",
              "      <th>2010-01-05</th>\n",
              "      <td>-5.0</td>\n",
              "      <td>-7.8</td>\n",
              "      <td>-10.6</td>\n",
              "      <td>21.0</td>\n",
              "      <td>1.0</td>\n",
              "      <td>0.0</td>\n",
              "      <td>1.5</td>\n",
              "      <td>0</td>\n",
              "    </tr>\n",
              "    <tr>\n",
              "      <th>2010-01-06</th>\n",
              "      <td>-6.0</td>\n",
              "      <td>-6.6</td>\n",
              "      <td>-7.1</td>\n",
              "      <td>21.0</td>\n",
              "      <td>0.2</td>\n",
              "      <td>0.0</td>\n",
              "      <td>0.2</td>\n",
              "      <td>0</td>\n",
              "    </tr>\n",
              "    <tr>\n",
              "      <th>2010-01-07</th>\n",
              "      <td>-6.0</td>\n",
              "      <td>-7.9</td>\n",
              "      <td>-9.7</td>\n",
              "      <td>20.0</td>\n",
              "      <td>0.0</td>\n",
              "      <td>0.0</td>\n",
              "      <td>0.4</td>\n",
              "      <td>0</td>\n",
              "    </tr>\n",
              "    <tr>\n",
              "      <th>2010-01-08</th>\n",
              "      <td>-8.6</td>\n",
              "      <td>-9.8</td>\n",
              "      <td>-11.0</td>\n",
              "      <td>21.0</td>\n",
              "      <td>0.0</td>\n",
              "      <td>0.0</td>\n",
              "      <td>0.0</td>\n",
              "      <td>0</td>\n",
              "    </tr>\n",
              "    <tr>\n",
              "      <th>2010-01-09</th>\n",
              "      <td>-11.3</td>\n",
              "      <td>-14.4</td>\n",
              "      <td>-17.5</td>\n",
              "      <td>20.0</td>\n",
              "      <td>0.0</td>\n",
              "      <td>0.0</td>\n",
              "      <td>0.0</td>\n",
              "      <td>0</td>\n",
              "    </tr>\n",
              "    <tr>\n",
              "      <th>2010-01-10</th>\n",
              "      <td>-5.3</td>\n",
              "      <td>-11.1</td>\n",
              "      <td>-16.8</td>\n",
              "      <td>18.0</td>\n",
              "      <td>0.0</td>\n",
              "      <td>0.0</td>\n",
              "      <td>0.0</td>\n",
              "      <td>0</td>\n",
              "    </tr>\n",
              "    <tr>\n",
              "      <th>2010-01-11</th>\n",
              "      <td>-2.8</td>\n",
              "      <td>-6.6</td>\n",
              "      <td>-10.3</td>\n",
              "      <td>18.0</td>\n",
              "      <td>0.0</td>\n",
              "      <td>0.0</td>\n",
              "      <td>0.0</td>\n",
              "      <td>0</td>\n",
              "    </tr>\n",
              "    <tr>\n",
              "      <th>2010-01-12</th>\n",
              "      <td>-9.6</td>\n",
              "      <td>-10.6</td>\n",
              "      <td>-11.6</td>\n",
              "      <td>18.0</td>\n",
              "      <td>0.0</td>\n",
              "      <td>0.0</td>\n",
              "      <td>0.0</td>\n",
              "      <td>0</td>\n",
              "    </tr>\n",
              "    <tr>\n",
              "      <th>2010-01-13</th>\n",
              "      <td>-7.8</td>\n",
              "      <td>-9.6</td>\n",
              "      <td>-11.3</td>\n",
              "      <td>21.0</td>\n",
              "      <td>1.2</td>\n",
              "      <td>0.0</td>\n",
              "      <td>2.0</td>\n",
              "      <td>0</td>\n",
              "    </tr>\n",
              "    <tr>\n",
              "      <th>2010-01-14</th>\n",
              "      <td>2.2</td>\n",
              "      <td>-3.6</td>\n",
              "      <td>-9.4</td>\n",
              "      <td>23.0</td>\n",
              "      <td>0.4</td>\n",
              "      <td>0.4</td>\n",
              "      <td>0.0</td>\n",
              "      <td>0</td>\n",
              "    </tr>\n",
              "    <tr>\n",
              "      <th>2010-01-15</th>\n",
              "      <td>2.5</td>\n",
              "      <td>-0.5</td>\n",
              "      <td>-3.4</td>\n",
              "      <td>19.0</td>\n",
              "      <td>0.0</td>\n",
              "      <td>0.0</td>\n",
              "      <td>0.0</td>\n",
              "      <td>0</td>\n",
              "    </tr>\n",
              "    <tr>\n",
              "      <th>2010-01-16</th>\n",
              "      <td>2.7</td>\n",
              "      <td>1.9</td>\n",
              "      <td>1.0</td>\n",
              "      <td>18.0</td>\n",
              "      <td>0.0</td>\n",
              "      <td>0.0</td>\n",
              "      <td>0.0</td>\n",
              "      <td>0</td>\n",
              "    </tr>\n",
              "    <tr>\n",
              "      <th>2010-01-17</th>\n",
              "      <td>-4.0</td>\n",
              "      <td>-4.8</td>\n",
              "      <td>-5.5</td>\n",
              "      <td>17.0</td>\n",
              "      <td>0.0</td>\n",
              "      <td>0.0</td>\n",
              "      <td>0.0</td>\n",
              "      <td>0</td>\n",
              "    </tr>\n",
              "    <tr>\n",
              "      <th>2010-01-18</th>\n",
              "      <td>-0.9</td>\n",
              "      <td>-3.7</td>\n",
              "      <td>-6.4</td>\n",
              "      <td>17.0</td>\n",
              "      <td>0.0</td>\n",
              "      <td>0.0</td>\n",
              "      <td>0.0</td>\n",
              "      <td>0</td>\n",
              "    </tr>\n",
              "    <tr>\n",
              "      <th>2010-01-19</th>\n",
              "      <td>1.6</td>\n",
              "      <td>-0.4</td>\n",
              "      <td>-2.4</td>\n",
              "      <td>17.0</td>\n",
              "      <td>0.3</td>\n",
              "      <td>0.0</td>\n",
              "      <td>0.4</td>\n",
              "      <td>0</td>\n",
              "    </tr>\n",
              "    <tr>\n",
              "      <th>2010-01-20</th>\n",
              "      <td>-2.4</td>\n",
              "      <td>-3.4</td>\n",
              "      <td>-4.4</td>\n",
              "      <td>17.0</td>\n",
              "      <td>0.0</td>\n",
              "      <td>0.0</td>\n",
              "      <td>0.0</td>\n",
              "      <td>0</td>\n",
              "    </tr>\n",
              "    <tr>\n",
              "      <th>2010-01-21</th>\n",
              "      <td>-3.0</td>\n",
              "      <td>-6.0</td>\n",
              "      <td>-9.0</td>\n",
              "      <td>17.0</td>\n",
              "      <td>0.0</td>\n",
              "      <td>0.0</td>\n",
              "      <td>0.0</td>\n",
              "      <td>0</td>\n",
              "    </tr>\n",
              "    <tr>\n",
              "      <th>2010-01-22</th>\n",
              "      <td>-2.0</td>\n",
              "      <td>-8.1</td>\n",
              "      <td>-14.1</td>\n",
              "      <td>17.0</td>\n",
              "      <td>0.0</td>\n",
              "      <td>0.0</td>\n",
              "      <td>0.0</td>\n",
              "      <td>0</td>\n",
              "    </tr>\n",
              "    <tr>\n",
              "      <th>2010-01-23</th>\n",
              "      <td>-1.9</td>\n",
              "      <td>-8.2</td>\n",
              "      <td>-14.4</td>\n",
              "      <td>17.0</td>\n",
              "      <td>0.0</td>\n",
              "      <td>0.0</td>\n",
              "      <td>0.0</td>\n",
              "      <td>0</td>\n",
              "    </tr>\n",
              "    <tr>\n",
              "      <th>2010-01-24</th>\n",
              "      <td>4.0</td>\n",
              "      <td>-2.8</td>\n",
              "      <td>-9.5</td>\n",
              "      <td>17.0</td>\n",
              "      <td>31.6</td>\n",
              "      <td>31.6</td>\n",
              "      <td>0.0</td>\n",
              "      <td>0</td>\n",
              "    </tr>\n",
              "    <tr>\n",
              "      <th>2010-01-25</th>\n",
              "      <td>7.4</td>\n",
              "      <td>2.4</td>\n",
              "      <td>-2.6</td>\n",
              "      <td>15.0</td>\n",
              "      <td>13.3</td>\n",
              "      <td>12.5</td>\n",
              "      <td>2.0</td>\n",
              "      <td>0</td>\n",
              "    </tr>\n",
              "    <tr>\n",
              "      <th>2010-01-26</th>\n",
              "      <td>2.6</td>\n",
              "      <td>1.4</td>\n",
              "      <td>0.1</td>\n",
              "      <td>13.0</td>\n",
              "      <td>0.0</td>\n",
              "      <td>0.0</td>\n",
              "      <td>0.0</td>\n",
              "      <td>0</td>\n",
              "    </tr>\n",
              "    <tr>\n",
              "      <th>2010-01-27</th>\n",
              "      <td>-1.3</td>\n",
              "      <td>-3.6</td>\n",
              "      <td>-5.9</td>\n",
              "      <td>10.0</td>\n",
              "      <td>0.0</td>\n",
              "      <td>0.0</td>\n",
              "      <td>0.5</td>\n",
              "      <td>0</td>\n",
              "    </tr>\n",
              "    <tr>\n",
              "      <th>2010-01-28</th>\n",
              "      <td>-3.2</td>\n",
              "      <td>-5.8</td>\n",
              "      <td>-8.3</td>\n",
              "      <td>9.0</td>\n",
              "      <td>1.5</td>\n",
              "      <td>0.0</td>\n",
              "      <td>2.0</td>\n",
              "      <td>3</td>\n",
              "    </tr>\n",
              "    <tr>\n",
              "      <th>2010-01-29</th>\n",
              "      <td>-17.6</td>\n",
              "      <td>-19.1</td>\n",
              "      <td>-20.5</td>\n",
              "      <td>9.0</td>\n",
              "      <td>0.0</td>\n",
              "      <td>0.0</td>\n",
              "      <td>0.0</td>\n",
              "      <td>0</td>\n",
              "    </tr>\n",
              "    <tr>\n",
              "      <th>2010-01-30</th>\n",
              "      <td>-10.0</td>\n",
              "      <td>-16.4</td>\n",
              "      <td>-22.7</td>\n",
              "      <td>9.0</td>\n",
              "      <td>0.0</td>\n",
              "      <td>0.0</td>\n",
              "      <td>0.0</td>\n",
              "      <td>0</td>\n",
              "    </tr>\n",
              "  </tbody>\n",
              "</table>\n",
              "</div>"
            ],
            "text/plain": [
              "            max temp  mean temp  ...  total snow (cm)  total count\n",
              "date                             ...                              \n",
              "2010-01-01      -2.5       -4.1  ...              7.6            0\n",
              "2010-01-02     -11.9      -13.3  ...              2.6            0\n",
              "2010-01-03      -7.8      -11.4  ...              3.0            0\n",
              "2010-01-04      -7.5       -9.0  ...              2.0            0\n",
              "2010-01-05      -5.0       -7.8  ...              1.5            0\n",
              "2010-01-06      -6.0       -6.6  ...              0.2            0\n",
              "2010-01-07      -6.0       -7.9  ...              0.4            0\n",
              "2010-01-08      -8.6       -9.8  ...              0.0            0\n",
              "2010-01-09     -11.3      -14.4  ...              0.0            0\n",
              "2010-01-10      -5.3      -11.1  ...              0.0            0\n",
              "2010-01-11      -2.8       -6.6  ...              0.0            0\n",
              "2010-01-12      -9.6      -10.6  ...              0.0            0\n",
              "2010-01-13      -7.8       -9.6  ...              2.0            0\n",
              "2010-01-14       2.2       -3.6  ...              0.0            0\n",
              "2010-01-15       2.5       -0.5  ...              0.0            0\n",
              "2010-01-16       2.7        1.9  ...              0.0            0\n",
              "2010-01-17      -4.0       -4.8  ...              0.0            0\n",
              "2010-01-18      -0.9       -3.7  ...              0.0            0\n",
              "2010-01-19       1.6       -0.4  ...              0.4            0\n",
              "2010-01-20      -2.4       -3.4  ...              0.0            0\n",
              "2010-01-21      -3.0       -6.0  ...              0.0            0\n",
              "2010-01-22      -2.0       -8.1  ...              0.0            0\n",
              "2010-01-23      -1.9       -8.2  ...              0.0            0\n",
              "2010-01-24       4.0       -2.8  ...              0.0            0\n",
              "2010-01-25       7.4        2.4  ...              2.0            0\n",
              "2010-01-26       2.6        1.4  ...              0.0            0\n",
              "2010-01-27      -1.3       -3.6  ...              0.5            0\n",
              "2010-01-28      -3.2       -5.8  ...              2.0            3\n",
              "2010-01-29     -17.6      -19.1  ...              0.0            0\n",
              "2010-01-30     -10.0      -16.4  ...              0.0            0\n",
              "\n",
              "[30 rows x 8 columns]"
            ]
          },
          "metadata": {
            "tags": []
          },
          "execution_count": 130
        }
      ]
    },
    {
      "cell_type": "code",
      "metadata": {
        "id": "4U5td60hKZ_A",
        "colab_type": "code",
        "colab": {}
      },
      "source": [
        "df_final['Total count label'] = pd.cut(df_final['total count'],bins=[-1,2000,10000,np.inf], labels=[1,2,3])"
      ],
      "execution_count": 0,
      "outputs": []
    },
    {
      "cell_type": "code",
      "metadata": {
        "id": "cC5t1SKKL3YX",
        "colab_type": "code",
        "colab": {
          "base_uri": "https://localhost:8080/",
          "height": 187
        },
        "outputId": "ba6e4885-eeef-4008-bd6d-3965b73d7318"
      },
      "source": [
        "df_final[df_final['Total count label'] == 3].count()"
      ],
      "execution_count": 141,
      "outputs": [
        {
          "output_type": "execute_result",
          "data": {
            "text/plain": [
              "max temp             804\n",
              "mean temp            804\n",
              "min temp             804\n",
              "snow on grnd (cm)    804\n",
              "total precip (mm)    804\n",
              "total rain (mm)      804\n",
              "total snow (cm)      804\n",
              "total count          804\n",
              "Total count label    804\n",
              "dtype: int64"
            ]
          },
          "metadata": {
            "tags": []
          },
          "execution_count": 141
        }
      ]
    },
    {
      "cell_type": "code",
      "metadata": {
        "id": "-dlg_w9oNC7Q",
        "colab_type": "code",
        "colab": {}
      },
      "source": [
        "df_f1= df_final.drop(['total count'], axis = 1)"
      ],
      "execution_count": 0,
      "outputs": []
    },
    {
      "cell_type": "code",
      "metadata": {
        "id": "ledAgqF7NcUo",
        "colab_type": "code",
        "colab": {}
      },
      "source": [
        "processed_df=df_f1.rename(columns = {'Total count label':'total count'})"
      ],
      "execution_count": 0,
      "outputs": []
    },
    {
      "cell_type": "code",
      "metadata": {
        "id": "atOKSel4OKx_",
        "colab_type": "code",
        "colab": {}
      },
      "source": [
        ""
      ],
      "execution_count": 0,
      "outputs": []
    },
    {
      "cell_type": "code",
      "metadata": {
        "id": "VkNRy6zWYFez",
        "colab_type": "code",
        "colab": {
          "base_uri": "https://localhost:8080/",
          "height": 235
        },
        "outputId": "b62f42ba-0bee-4ce9-970e-25f60c91565e"
      },
      "source": [
        "processed_df.head()"
      ],
      "execution_count": 172,
      "outputs": [
        {
          "output_type": "execute_result",
          "data": {
            "text/html": [
              "<div>\n",
              "<style scoped>\n",
              "    .dataframe tbody tr th:only-of-type {\n",
              "        vertical-align: middle;\n",
              "    }\n",
              "\n",
              "    .dataframe tbody tr th {\n",
              "        vertical-align: top;\n",
              "    }\n",
              "\n",
              "    .dataframe thead th {\n",
              "        text-align: right;\n",
              "    }\n",
              "</style>\n",
              "<table border=\"1\" class=\"dataframe\">\n",
              "  <thead>\n",
              "    <tr style=\"text-align: right;\">\n",
              "      <th></th>\n",
              "      <th>max temp</th>\n",
              "      <th>mean temp</th>\n",
              "      <th>min temp</th>\n",
              "      <th>snow on grnd (cm)</th>\n",
              "      <th>total precip (mm)</th>\n",
              "      <th>total rain (mm)</th>\n",
              "      <th>total snow (cm)</th>\n",
              "      <th>total count</th>\n",
              "    </tr>\n",
              "    <tr>\n",
              "      <th>date</th>\n",
              "      <th></th>\n",
              "      <th></th>\n",
              "      <th></th>\n",
              "      <th></th>\n",
              "      <th></th>\n",
              "      <th></th>\n",
              "      <th></th>\n",
              "      <th></th>\n",
              "    </tr>\n",
              "  </thead>\n",
              "  <tbody>\n",
              "    <tr>\n",
              "      <th>2010-01-01</th>\n",
              "      <td>-2.5</td>\n",
              "      <td>-4.1</td>\n",
              "      <td>-5.7</td>\n",
              "      <td>18.0</td>\n",
              "      <td>5.0</td>\n",
              "      <td>0.0</td>\n",
              "      <td>7.6</td>\n",
              "      <td>1</td>\n",
              "    </tr>\n",
              "    <tr>\n",
              "      <th>2010-01-02</th>\n",
              "      <td>-11.9</td>\n",
              "      <td>-13.3</td>\n",
              "      <td>-14.6</td>\n",
              "      <td>21.0</td>\n",
              "      <td>1.9</td>\n",
              "      <td>0.0</td>\n",
              "      <td>2.6</td>\n",
              "      <td>1</td>\n",
              "    </tr>\n",
              "    <tr>\n",
              "      <th>2010-01-03</th>\n",
              "      <td>-7.8</td>\n",
              "      <td>-11.4</td>\n",
              "      <td>-15.0</td>\n",
              "      <td>21.0</td>\n",
              "      <td>2.0</td>\n",
              "      <td>0.0</td>\n",
              "      <td>3.0</td>\n",
              "      <td>1</td>\n",
              "    </tr>\n",
              "    <tr>\n",
              "      <th>2010-01-04</th>\n",
              "      <td>-7.5</td>\n",
              "      <td>-9.0</td>\n",
              "      <td>-10.5</td>\n",
              "      <td>21.0</td>\n",
              "      <td>1.0</td>\n",
              "      <td>0.0</td>\n",
              "      <td>2.0</td>\n",
              "      <td>1</td>\n",
              "    </tr>\n",
              "    <tr>\n",
              "      <th>2010-01-05</th>\n",
              "      <td>-5.0</td>\n",
              "      <td>-7.8</td>\n",
              "      <td>-10.6</td>\n",
              "      <td>21.0</td>\n",
              "      <td>1.0</td>\n",
              "      <td>0.0</td>\n",
              "      <td>1.5</td>\n",
              "      <td>1</td>\n",
              "    </tr>\n",
              "  </tbody>\n",
              "</table>\n",
              "</div>"
            ],
            "text/plain": [
              "            max temp  mean temp  ...  total snow (cm)  total count\n",
              "date                             ...                              \n",
              "2010-01-01      -2.5       -4.1  ...              7.6            1\n",
              "2010-01-02     -11.9      -13.3  ...              2.6            1\n",
              "2010-01-03      -7.8      -11.4  ...              3.0            1\n",
              "2010-01-04      -7.5       -9.0  ...              2.0            1\n",
              "2010-01-05      -5.0       -7.8  ...              1.5            1\n",
              "\n",
              "[5 rows x 8 columns]"
            ]
          },
          "metadata": {
            "tags": []
          },
          "execution_count": 172
        }
      ]
    },
    {
      "cell_type": "code",
      "metadata": {
        "id": "gVOqF7igOVHQ",
        "colab_type": "code",
        "colab": {}
      },
      "source": [
        "processed_df.to_csv('process_data.csv')"
      ],
      "execution_count": 0,
      "outputs": []
    },
    {
      "cell_type": "code",
      "metadata": {
        "id": "Tod6QywXOpiZ",
        "colab_type": "code",
        "colab": {}
      },
      "source": [
        "from sklearn.model_selection import train_test_split"
      ],
      "execution_count": 0,
      "outputs": []
    },
    {
      "cell_type": "code",
      "metadata": {
        "id": "xh0Dq62RO6TZ",
        "colab_type": "code",
        "colab": {}
      },
      "source": [
        "train_df, test_df = train_test_split(processed_df, test_size=0.2)"
      ],
      "execution_count": 0,
      "outputs": []
    },
    {
      "cell_type": "code",
      "metadata": {
        "id": "0EA4HYsnX3ca",
        "colab_type": "code",
        "colab": {
          "base_uri": "https://localhost:8080/",
          "height": 235
        },
        "outputId": "c27f1564-742b-433f-8264-b03330dbd388"
      },
      "source": [
        "test_df.head()"
      ],
      "execution_count": 177,
      "outputs": [
        {
          "output_type": "execute_result",
          "data": {
            "text/html": [
              "<div>\n",
              "<style scoped>\n",
              "    .dataframe tbody tr th:only-of-type {\n",
              "        vertical-align: middle;\n",
              "    }\n",
              "\n",
              "    .dataframe tbody tr th {\n",
              "        vertical-align: top;\n",
              "    }\n",
              "\n",
              "    .dataframe thead th {\n",
              "        text-align: right;\n",
              "    }\n",
              "</style>\n",
              "<table border=\"1\" class=\"dataframe\">\n",
              "  <thead>\n",
              "    <tr style=\"text-align: right;\">\n",
              "      <th></th>\n",
              "      <th>max temp</th>\n",
              "      <th>mean temp</th>\n",
              "      <th>min temp</th>\n",
              "      <th>snow on grnd (cm)</th>\n",
              "      <th>total precip (mm)</th>\n",
              "      <th>total rain (mm)</th>\n",
              "      <th>total snow (cm)</th>\n",
              "      <th>total count</th>\n",
              "    </tr>\n",
              "    <tr>\n",
              "      <th>date</th>\n",
              "      <th></th>\n",
              "      <th></th>\n",
              "      <th></th>\n",
              "      <th></th>\n",
              "      <th></th>\n",
              "      <th></th>\n",
              "      <th></th>\n",
              "      <th></th>\n",
              "    </tr>\n",
              "  </thead>\n",
              "  <tbody>\n",
              "    <tr>\n",
              "      <th>2017-05-12</th>\n",
              "      <td>19.5</td>\n",
              "      <td>13.5</td>\n",
              "      <td>7.5</td>\n",
              "      <td>0.0</td>\n",
              "      <td>0.6</td>\n",
              "      <td>0.6</td>\n",
              "      <td>0.0</td>\n",
              "      <td>3</td>\n",
              "    </tr>\n",
              "    <tr>\n",
              "      <th>2018-10-16</th>\n",
              "      <td>9.0</td>\n",
              "      <td>5.8</td>\n",
              "      <td>2.5</td>\n",
              "      <td>0.0</td>\n",
              "      <td>0.0</td>\n",
              "      <td>0.0</td>\n",
              "      <td>0.0</td>\n",
              "      <td>2</td>\n",
              "    </tr>\n",
              "    <tr>\n",
              "      <th>2014-06-17</th>\n",
              "      <td>28.0</td>\n",
              "      <td>20.3</td>\n",
              "      <td>12.5</td>\n",
              "      <td>0.0</td>\n",
              "      <td>18.2</td>\n",
              "      <td>18.2</td>\n",
              "      <td>0.0</td>\n",
              "      <td>2</td>\n",
              "    </tr>\n",
              "    <tr>\n",
              "      <th>2013-03-09</th>\n",
              "      <td>7.5</td>\n",
              "      <td>-1.0</td>\n",
              "      <td>-9.5</td>\n",
              "      <td>47.0</td>\n",
              "      <td>0.0</td>\n",
              "      <td>0.0</td>\n",
              "      <td>0.0</td>\n",
              "      <td>1</td>\n",
              "    </tr>\n",
              "    <tr>\n",
              "      <th>2017-12-04</th>\n",
              "      <td>8.0</td>\n",
              "      <td>3.5</td>\n",
              "      <td>-1.0</td>\n",
              "      <td>0.0</td>\n",
              "      <td>0.6</td>\n",
              "      <td>0.6</td>\n",
              "      <td>0.0</td>\n",
              "      <td>2</td>\n",
              "    </tr>\n",
              "  </tbody>\n",
              "</table>\n",
              "</div>"
            ],
            "text/plain": [
              "            max temp  mean temp  ...  total snow (cm)  total count\n",
              "date                             ...                              \n",
              "2017-05-12      19.5       13.5  ...              0.0            3\n",
              "2018-10-16       9.0        5.8  ...              0.0            2\n",
              "2014-06-17      28.0       20.3  ...              0.0            2\n",
              "2013-03-09       7.5       -1.0  ...              0.0            1\n",
              "2017-12-04       8.0        3.5  ...              0.0            2\n",
              "\n",
              "[5 rows x 8 columns]"
            ]
          },
          "metadata": {
            "tags": []
          },
          "execution_count": 177
        }
      ]
    },
    {
      "cell_type": "code",
      "metadata": {
        "id": "H_Yvcp7zXmeB",
        "colab_type": "code",
        "colab": {}
      },
      "source": [
        "x_train = train_df.drop(columns=['total count']).values"
      ],
      "execution_count": 0,
      "outputs": []
    },
    {
      "cell_type": "code",
      "metadata": {
        "id": "LkGjMFnzZaoz",
        "colab_type": "code",
        "colab": {}
      },
      "source": [
        "y_train = train_df['total count'].values"
      ],
      "execution_count": 0,
      "outputs": []
    },
    {
      "cell_type": "code",
      "metadata": {
        "id": "OISTYh6Nd1ta",
        "colab_type": "code",
        "colab": {}
      },
      "source": [
        "x_test = test_df.drop(columns=['total count']).values"
      ],
      "execution_count": 0,
      "outputs": []
    },
    {
      "cell_type": "code",
      "metadata": {
        "id": "KH5z7Sacd1ez",
        "colab_type": "code",
        "colab": {}
      },
      "source": [
        "y_test = test_df['total count'].values"
      ],
      "execution_count": 0,
      "outputs": []
    },
    {
      "cell_type": "code",
      "metadata": {
        "id": "0sc95ex-Zfph",
        "colab_type": "code",
        "colab": {}
      },
      "source": [
        "train_df.to_csv('train.csv')"
      ],
      "execution_count": 0,
      "outputs": []
    },
    {
      "cell_type": "code",
      "metadata": {
        "id": "22yLFLjDa5zO",
        "colab_type": "code",
        "colab": {}
      },
      "source": [
        "test_df.to_csv('test.csv')"
      ],
      "execution_count": 0,
      "outputs": []
    },
    {
      "cell_type": "code",
      "metadata": {
        "id": "pyyTDlCxa-pa",
        "colab_type": "code",
        "colab": {}
      },
      "source": [
        "from sklearn.ensemble import RandomForestClassifier, BaggingClassifier, AdaBoostClassifier, VotingClassifier"
      ],
      "execution_count": 0,
      "outputs": []
    },
    {
      "cell_type": "code",
      "metadata": {
        "id": "mkFm3k0ebT0q",
        "colab_type": "code",
        "colab": {}
      },
      "source": [
        "model_RF = RandomForestClassifier(n_estimators=10)"
      ],
      "execution_count": 0,
      "outputs": []
    },
    {
      "cell_type": "code",
      "metadata": {
        "id": "gM7p1VQfbbqC",
        "colab_type": "code",
        "colab": {}
      },
      "source": [
        "clf = model_RF.fit(x_train, y_train)"
      ],
      "execution_count": 0,
      "outputs": []
    },
    {
      "cell_type": "code",
      "metadata": {
        "id": "PTgJbtytb211",
        "colab_type": "code",
        "colab": {}
      },
      "source": [
        "y_pred = model_RF.predict(x_test)"
      ],
      "execution_count": 0,
      "outputs": []
    },
    {
      "cell_type": "code",
      "metadata": {
        "id": "DQvhr2xIeFG-",
        "colab_type": "code",
        "colab": {}
      },
      "source": [
        "from sklearn.metrics import classification_report , accuracy_score, confusion_matrix"
      ],
      "execution_count": 0,
      "outputs": []
    },
    {
      "cell_type": "code",
      "metadata": {
        "id": "b1PJMCI5eLBD",
        "colab_type": "code",
        "colab": {}
      },
      "source": [
        "c_matrix = confusion_matrix(y_test,y_pred)"
      ],
      "execution_count": 0,
      "outputs": []
    },
    {
      "cell_type": "code",
      "metadata": {
        "id": "drVMaK5leVfc",
        "colab_type": "code",
        "colab": {}
      },
      "source": [
        "c_report = classification_report(y_test,y_pred)"
      ],
      "execution_count": 0,
      "outputs": []
    },
    {
      "cell_type": "code",
      "metadata": {
        "id": "oL5OXzx2e0rr",
        "colab_type": "code",
        "colab": {}
      },
      "source": [
        "score = accuracy_score(y_test,y_pred)"
      ],
      "execution_count": 0,
      "outputs": []
    },
    {
      "cell_type": "code",
      "metadata": {
        "id": "CL3apM90en0k",
        "colab_type": "code",
        "colab": {
          "base_uri": "https://localhost:8080/",
          "height": 68
        },
        "outputId": "1fa04c45-e717-4fe3-b3dd-2c84facf7abc"
      },
      "source": [
        "c_matrix"
      ],
      "execution_count": 227,
      "outputs": [
        {
          "output_type": "execute_result",
          "data": {
            "text/plain": [
              "array([[207,  36,  11],\n",
              "       [ 59, 116,  79],\n",
              "       [  1,  61,  82]])"
            ]
          },
          "metadata": {
            "tags": []
          },
          "execution_count": 227
        }
      ]
    },
    {
      "cell_type": "code",
      "metadata": {
        "id": "HtXfMceqerlT",
        "colab_type": "code",
        "colab": {
          "base_uri": "https://localhost:8080/",
          "height": 54
        },
        "outputId": "4380cc64-7254-4537-c327-38f68f0a79f2"
      },
      "source": [
        "c_report"
      ],
      "execution_count": 228,
      "outputs": [
        {
          "output_type": "execute_result",
          "data": {
            "text/plain": [
              "'              precision    recall  f1-score   support\\n\\n           1       0.78      0.81      0.79       254\\n           2       0.54      0.46      0.50       254\\n           3       0.48      0.57      0.52       144\\n\\n    accuracy                           0.62       652\\n   macro avg       0.60      0.61      0.60       652\\nweighted avg       0.62      0.62      0.62       652\\n'"
            ]
          },
          "metadata": {
            "tags": []
          },
          "execution_count": 228
        }
      ]
    },
    {
      "cell_type": "code",
      "metadata": {
        "id": "r2Bwqeeae7cq",
        "colab_type": "code",
        "colab": {
          "base_uri": "https://localhost:8080/",
          "height": 34
        },
        "outputId": "a7efd1be-c1d3-4b06-ee41-2b0900c27f06"
      },
      "source": [
        "score"
      ],
      "execution_count": 229,
      "outputs": [
        {
          "output_type": "execute_result",
          "data": {
            "text/plain": [
              "0.6211656441717791"
            ]
          },
          "metadata": {
            "tags": []
          },
          "execution_count": 229
        }
      ]
    },
    {
      "cell_type": "markdown",
      "metadata": {
        "id": "s4j2PiWHfbf0",
        "colab_type": "text"
      },
      "source": [
        "Neural Network Model"
      ]
    },
    {
      "cell_type": "code",
      "metadata": {
        "id": "sLgvdrQ6f5vU",
        "colab_type": "code",
        "colab": {}
      },
      "source": [
        "import keras\n",
        "from keras.models import Sequential\n",
        "from keras.layers import Dense\n",
        "from sklearn.metrics import accuracy_score"
      ],
      "execution_count": 0,
      "outputs": []
    },
    {
      "cell_type": "code",
      "metadata": {
        "id": "Up4jw_m3gAhj",
        "colab_type": "code",
        "colab": {}
      },
      "source": [
        "# paramenter initialization\n",
        "batch_size = 1000\n",
        "epoches = 5"
      ],
      "execution_count": 0,
      "outputs": []
    },
    {
      "cell_type": "code",
      "metadata": {
        "id": "pbbDSV9bgFOj",
        "colab_type": "code",
        "colab": {}
      },
      "source": [
        "# Define model\n",
        "model = Sequential()"
      ],
      "execution_count": 0,
      "outputs": []
    },
    {
      "cell_type": "code",
      "metadata": {
        "id": "_xBu5tdUgMI7",
        "colab_type": "code",
        "colab": {}
      },
      "source": [
        "model.add(Dense(16, input_dim=7, activation='relu'))"
      ],
      "execution_count": 0,
      "outputs": []
    },
    {
      "cell_type": "code",
      "metadata": {
        "id": "QOX6ngKdgtDN",
        "colab_type": "code",
        "colab": {}
      },
      "source": [
        "model.add(Dense(12, activation= 'relu'))"
      ],
      "execution_count": 0,
      "outputs": []
    },
    {
      "cell_type": "code",
      "metadata": {
        "id": "62CR7KMghI1f",
        "colab_type": "code",
        "colab": {}
      },
      "source": [
        "model.add(Dense(3, activation = 'softmax'))"
      ],
      "execution_count": 0,
      "outputs": []
    },
    {
      "cell_type": "code",
      "metadata": {
        "id": "lO90hGRphQMu",
        "colab_type": "code",
        "colab": {
          "base_uri": "https://localhost:8080/",
          "height": 255
        },
        "outputId": "cf9eb12c-7728-4680-9ea9-9667c56fbd7f"
      },
      "source": [
        "model.summary()"
      ],
      "execution_count": 256,
      "outputs": [
        {
          "output_type": "stream",
          "text": [
            "Model: \"sequential_4\"\n",
            "_________________________________________________________________\n",
            "Layer (type)                 Output Shape              Param #   \n",
            "=================================================================\n",
            "dense_11 (Dense)             (None, 16)                128       \n",
            "_________________________________________________________________\n",
            "dense_12 (Dense)             (None, 12)                204       \n",
            "_________________________________________________________________\n",
            "dense_13 (Dense)             (None, 3)                 39        \n",
            "=================================================================\n",
            "Total params: 371\n",
            "Trainable params: 371\n",
            "Non-trainable params: 0\n",
            "_________________________________________________________________\n"
          ],
          "name": "stdout"
        }
      ]
    },
    {
      "cell_type": "code",
      "metadata": {
        "id": "RMI57nIGhiN0",
        "colab_type": "code",
        "colab": {}
      },
      "source": [
        "model.compile(loss = 'categorical_crossentropy',optimizer='adam',metrics=['accuracy'])"
      ],
      "execution_count": 0,
      "outputs": []
    },
    {
      "cell_type": "code",
      "metadata": {
        "id": "H3uSUJmBiYwE",
        "colab_type": "code",
        "colab": {
          "base_uri": "https://localhost:8080/",
          "height": 307
        },
        "outputId": "68b4f1cf-6b08-46f0-82ce-4a3f0916a0c9"
      },
      "source": [
        "#train model\n",
        "model.fit(x_train,y_train,batch_size=batch_size,verbose=1,validation_data=(x_test,y_test),epochs=epoches)"
      ],
      "execution_count": 258,
      "outputs": [
        {
          "output_type": "error",
          "ename": "ValueError",
          "evalue": "ignored",
          "traceback": [
            "\u001b[0;31m---------------------------------------------------------------------------\u001b[0m",
            "\u001b[0;31mValueError\u001b[0m                                Traceback (most recent call last)",
            "\u001b[0;32m<ipython-input-258-78a43d6ff03a>\u001b[0m in \u001b[0;36m<module>\u001b[0;34m()\u001b[0m\n\u001b[0;32m----> 1\u001b[0;31m \u001b[0mmodel\u001b[0m\u001b[0;34m.\u001b[0m\u001b[0mfit\u001b[0m\u001b[0;34m(\u001b[0m\u001b[0mx_train\u001b[0m\u001b[0;34m,\u001b[0m\u001b[0my_train\u001b[0m\u001b[0;34m,\u001b[0m\u001b[0mbatch_size\u001b[0m\u001b[0;34m=\u001b[0m\u001b[0mbatch_size\u001b[0m\u001b[0;34m,\u001b[0m\u001b[0mverbose\u001b[0m\u001b[0;34m=\u001b[0m\u001b[0;36m1\u001b[0m\u001b[0;34m,\u001b[0m\u001b[0mvalidation_data\u001b[0m\u001b[0;34m=\u001b[0m\u001b[0;34m(\u001b[0m\u001b[0mx_test\u001b[0m\u001b[0;34m,\u001b[0m\u001b[0my_test\u001b[0m\u001b[0;34m)\u001b[0m\u001b[0;34m,\u001b[0m\u001b[0mepochs\u001b[0m\u001b[0;34m=\u001b[0m\u001b[0mepoches\u001b[0m\u001b[0;34m)\u001b[0m\u001b[0;34m\u001b[0m\u001b[0;34m\u001b[0m\u001b[0m\n\u001b[0m",
            "\u001b[0;32m/usr/local/lib/python3.6/dist-packages/keras/engine/training.py\u001b[0m in \u001b[0;36mfit\u001b[0;34m(self, x, y, batch_size, epochs, verbose, callbacks, validation_split, validation_data, shuffle, class_weight, sample_weight, initial_epoch, steps_per_epoch, validation_steps, validation_freq, max_queue_size, workers, use_multiprocessing, **kwargs)\u001b[0m\n\u001b[1;32m   1087\u001b[0m             \u001b[0msample_weight\u001b[0m\u001b[0;34m=\u001b[0m\u001b[0msample_weight\u001b[0m\u001b[0;34m,\u001b[0m\u001b[0;34m\u001b[0m\u001b[0;34m\u001b[0m\u001b[0m\n\u001b[1;32m   1088\u001b[0m             \u001b[0mclass_weight\u001b[0m\u001b[0;34m=\u001b[0m\u001b[0mclass_weight\u001b[0m\u001b[0;34m,\u001b[0m\u001b[0;34m\u001b[0m\u001b[0;34m\u001b[0m\u001b[0m\n\u001b[0;32m-> 1089\u001b[0;31m             batch_size=batch_size)\n\u001b[0m\u001b[1;32m   1090\u001b[0m \u001b[0;34m\u001b[0m\u001b[0m\n\u001b[1;32m   1091\u001b[0m         \u001b[0;31m# Prepare validation data.\u001b[0m\u001b[0;34m\u001b[0m\u001b[0;34m\u001b[0m\u001b[0;34m\u001b[0m\u001b[0m\n",
            "\u001b[0;32m/usr/local/lib/python3.6/dist-packages/keras/engine/training.py\u001b[0m in \u001b[0;36m_standardize_user_data\u001b[0;34m(self, x, y, sample_weight, class_weight, check_array_lengths, batch_size)\u001b[0m\n\u001b[1;32m    793\u001b[0m                 \u001b[0mfeed_output_shapes\u001b[0m\u001b[0;34m,\u001b[0m\u001b[0;34m\u001b[0m\u001b[0;34m\u001b[0m\u001b[0m\n\u001b[1;32m    794\u001b[0m                 \u001b[0mcheck_batch_axis\u001b[0m\u001b[0;34m=\u001b[0m\u001b[0;32mFalse\u001b[0m\u001b[0;34m,\u001b[0m  \u001b[0;31m# Don't enforce the batch size.\u001b[0m\u001b[0;34m\u001b[0m\u001b[0;34m\u001b[0m\u001b[0m\n\u001b[0;32m--> 795\u001b[0;31m                 exception_prefix='target')\n\u001b[0m\u001b[1;32m    796\u001b[0m \u001b[0;34m\u001b[0m\u001b[0m\n\u001b[1;32m    797\u001b[0m             \u001b[0;31m# Generate sample-wise weight values given the `sample_weight` and\u001b[0m\u001b[0;34m\u001b[0m\u001b[0;34m\u001b[0m\u001b[0;34m\u001b[0m\u001b[0m\n",
            "\u001b[0;32m/usr/local/lib/python3.6/dist-packages/keras/engine/training_utils.py\u001b[0m in \u001b[0;36mstandardize_input_data\u001b[0;34m(data, names, shapes, check_batch_axis, exception_prefix)\u001b[0m\n\u001b[1;32m    139\u001b[0m                             \u001b[0;34m': expected '\u001b[0m \u001b[0;34m+\u001b[0m \u001b[0mnames\u001b[0m\u001b[0;34m[\u001b[0m\u001b[0mi\u001b[0m\u001b[0;34m]\u001b[0m \u001b[0;34m+\u001b[0m \u001b[0;34m' to have shape '\u001b[0m \u001b[0;34m+\u001b[0m\u001b[0;34m\u001b[0m\u001b[0;34m\u001b[0m\u001b[0m\n\u001b[1;32m    140\u001b[0m                             \u001b[0mstr\u001b[0m\u001b[0;34m(\u001b[0m\u001b[0mshape\u001b[0m\u001b[0;34m)\u001b[0m \u001b[0;34m+\u001b[0m \u001b[0;34m' but got array with shape '\u001b[0m \u001b[0;34m+\u001b[0m\u001b[0;34m\u001b[0m\u001b[0;34m\u001b[0m\u001b[0m\n\u001b[0;32m--> 141\u001b[0;31m                             str(data_shape))\n\u001b[0m\u001b[1;32m    142\u001b[0m     \u001b[0;32mreturn\u001b[0m \u001b[0mdata\u001b[0m\u001b[0;34m\u001b[0m\u001b[0;34m\u001b[0m\u001b[0m\n\u001b[1;32m    143\u001b[0m \u001b[0;34m\u001b[0m\u001b[0m\n",
            "\u001b[0;31mValueError\u001b[0m: Error when checking target: expected dense_13 to have shape (3,) but got array with shape (1,)"
          ]
        }
      ]
    },
    {
      "cell_type": "code",
      "metadata": {
        "id": "KyZUNkLufXpq",
        "colab_type": "code",
        "colab": {
          "base_uri": "https://localhost:8080/",
          "height": 130
        },
        "outputId": "7917ca59-a9c2-457e-ef8b-f38e881eb126"
      },
      "source": [
        "    import keras\n",
        "    from keras.models import Sequential\n",
        "    from keras.layers import Dense\n",
        "    from sklearn.metrics import accuracy_score\n",
        "    \n",
        "    # paramenter initialization\n",
        "    batch_size = 1000\n",
        "    epoches = 5\n",
        "\n",
        "    #x_train = train_df.drop(columns=['total count']).values\n",
        "    #y_train = train_df['total count'].values\n",
        "    #x_test = test_df.drop(columns=['total count']).values\n",
        "    #y_test = test_df['total count'].values\n",
        "    \n",
        "    \n",
        "    #Dependencies\n",
        "    # Neural network\n",
        "    mdl = Sequential()\n",
        "    mdl.add(Dense(16, input_dim=20, activation= 'relu'))\n",
        "    mdl.add(Dense(12, activation= 'relu''))\n",
        "    mdl.add(Dense(3, activation= 'softmax'))\n",
        "    mdl.summary()\n",
        "    \n",
        "    mdl.compile(loss='categorical_crossentropy', optimizer='adam', metrics=['accuracy'])\n",
        "    \n",
        "    # train model\n",
        "    print('\\n# Fit model on training data')\n",
        "    mdl.fit(x_train, y_train, \n",
        "            batch_size = batch_size\n",
        "            verbose=1,\n",
        "            validation_data=(x_test, y_test),\n",
        "            epochs=epochs)\n",
        "    \n",
        "    # evaluate model\n",
        "    print('\\n# Evaluate on test data')\n",
        "    mdl.evaluate(x_test, y_test, batch_size=44) \n",
        "    \n",
        "    # if only need test_acc\n",
        "    test_acc = accuracy_score(y_train,y_test)"
      ],
      "execution_count": 207,
      "outputs": [
        {
          "output_type": "error",
          "ename": "SyntaxError",
          "evalue": "ignored",
          "traceback": [
            "\u001b[0;36m  File \u001b[0;32m\"<ipython-input-207-4b5a891a4002>\"\u001b[0;36m, line \u001b[0;32m19\u001b[0m\n\u001b[0;31m    mdl.add(Dense(16, input_dim=20, activation=’relu’))\u001b[0m\n\u001b[0m                                                    ^\u001b[0m\n\u001b[0;31mSyntaxError\u001b[0m\u001b[0;31m:\u001b[0m invalid character in identifier\n"
          ]
        }
      ]
    },
    {
      "cell_type": "code",
      "metadata": {
        "id": "fkEM7qRAfXcH",
        "colab_type": "code",
        "colab": {}
      },
      "source": [
        ""
      ],
      "execution_count": 0,
      "outputs": []
    },
    {
      "cell_type": "code",
      "metadata": {
        "id": "dFCSc4GtqCi1",
        "colab_type": "code",
        "colab": {}
      },
      "source": [
        "#Convert the numerical column total count into three\n",
        "#categories: less than 2000, 2000 to 10000 and over 10000. Save the processed_df to processed_data.csv.\n",
        "def divide_classes(x):\n",
        "    if x <  2000:\n",
        "        return \"less than 2000\"\n",
        "    elif x >= 2000 & x <= 10000:\n",
        "        return \"2000 to 10000\"    \n",
        "    elif x > 10000:\n",
        "        return \"Over 10000\"\n",
        "\n",
        "df = pd.read_csv(\"data.csv\")\n",
        "\n",
        "def preprocessing(df: pd.DataFrame) -> pd.DataFrame:\n",
        "    '''\n",
        "    Pre-process a dataframe\n",
        "    \n",
        "    :param pd.DataFrame df: raw dataframe from data.csv\n",
        "    \n",
        "    :returns pd.DataFrame processed_df: processed dataframe\n",
        "    ''' \n",
        "    \n",
        "    print(df.shape)\n",
        "    print(df.head())\n",
        "    df1 = df.groupby(['date' , 'location_name' ], as_index=False)['count'].sum()\n",
        "\n",
        "    df1.columns = ['date', 'location_name', 'total count']\n",
        "    #del df['location_name']\n",
        "\n",
        "    processed_df = pd.merge(df1, df, how = 'left', on = ['date', 'location_name'])\n",
        "    print(processed_df.shape)\n",
        "    print(processed_df.head(5))\n",
        "\n",
        "    del processed_df['location_name']\n",
        "    del processed_df['count']\n",
        "\n",
        "    processed_df['class'] = processed_df['total count'].apply(lambda x : divide_classes(x))\n",
        "    print(processed_df.head())\n",
        "\n",
        "    return processed_df"
      ],
      "execution_count": 0,
      "outputs": []
    },
    {
      "cell_type": "markdown",
      "metadata": {
        "id": "AIARO0HKqCi3",
        "colab_type": "text"
      },
      "source": [
        "## 2. Data engineering"
      ]
    },
    {
      "cell_type": "markdown",
      "metadata": {
        "id": "ME7SjmcaqCi4",
        "colab_type": "text"
      },
      "source": [
        "Please implement the function below to do any data engineering as needed, split the dataset into train set (80%) and test set (20%). The final `DataFrame` should be ready for training/testing, in other words, one should be able to get `x, y` arrays using the following commands:\n",
        "\n",
        "```python\n",
        "x_train = train_df.drop(columns=['total count']).values\n",
        "y_train = train_df['total count'].values\n",
        "```\n",
        "\n",
        "Save `train_df`, `test_df` to `train.csv` and `test.csv` respectively.\n",
        "\n",
        "*hint: please consider what additional information can be extracted from the given columns*"
      ]
    },
    {
      "cell_type": "code",
      "metadata": {
        "id": "5CiqFIE-qCi5",
        "colab_type": "code",
        "colab": {}
      },
      "source": [
        "from sklearn.model_selection import train_test_split\n",
        "def data_engineering(processed_df: pd.DataFrame) -> (pd.DataFrame,\n",
        "                                                     pd.DataFrame):\n",
        "    \n",
        "    '''\n",
        "    Perform data engineering on processed dataframe\n",
        "\n",
        "    :param pd.DataFrame processed_df: output of preprocess()\n",
        "\n",
        "    :returns pd.DataFrame train_df: training set of the engineered dataframe\n",
        "    :returns pd.DataFrame test_df: test set of the engineered dataframe\n",
        "    '''\n",
        "    \n",
        "    # drop the null values\n",
        "    print(processed_df.isnull().sum().tolist())\n",
        "    processed_df = processed_df.dropna(axis=1, how='all')\n",
        "    print(processed_df.isnull().sum().tolist())\n",
        "\n",
        "    processed_df['day'] = pd.DatetimeIndex(df['date']).day\n",
        "    processed_df['month'] = pd.DatetimeIndex(df['date']).month\n",
        "    processed_df['year']= pd.DatetimeIndex(df['date']).year\n",
        "    del processed_df['date']\n",
        "    processed_df.head()\n",
        "\n",
        "    # train test split\n",
        "    train_df, test_df = train_test_split(processed_df, test_size=0.2)\n",
        "    \n",
        "    # save dataframe as csv\n",
        "    train_df.to_csv('train.csv', sep='\\t')\n",
        "    test_df.to_csv('test.csv', sep='\\t')\n",
        "    \n",
        "    return (train_df, test_df)"
      ],
      "execution_count": 0,
      "outputs": []
    },
    {
      "cell_type": "markdown",
      "metadata": {
        "id": "U-kiMJ9vqCi7",
        "colab_type": "text"
      },
      "source": [
        "##  3. Classical machine learning methods"
      ]
    },
    {
      "cell_type": "markdown",
      "metadata": {
        "id": "NakME79FqCi8",
        "colab_type": "text"
      },
      "source": [
        "Please complete the function below which takes `train_df` and `test_df` as inputs, and outputs the trained classifier, accuracy on training set and test set, confusion matrix on test set. You can experiment with as many methods as you want, please only leave the one with best performance (you can leave the others in comments) so that the function only returns one trained classifier.\n",
        "\n",
        "Please answer the following questions as comments or in another markdown cell:\n",
        "\n",
        "1. What data engineering techniques did you apply?\n",
        "2. What's the best accuracy on test set did you achieve? Which classifier did you use to get the best accuracy?\n",
        "3. Which features are the most important for predicting counts of bicycles?"
      ]
    },
    {
      "cell_type": "code",
      "metadata": {
        "id": "XUaNVO9UqCi9",
        "colab_type": "code",
        "colab": {},
        "outputId": "11d575c1-59e5-4012-b550-1f06da006d87"
      },
      "source": [
        "# ml models decistion tree\n",
        "from sklearn.tree import DecisionTreeClassifier\n",
        "\n",
        "# One of the Ensemle model -- Random Forset which is ensemple of decision trees\n",
        "from sklearn.ensemble import RandomForestClassifier, BaggingClassifier, AdaBoostClassifier, VotingClassifier\n",
        "\n",
        "# import logistic regression, SVC  for ensembling\n",
        "from sklearn.linear_model import LogisticRegression\n",
        "from sklearn.svm import SVC, LinearSVC\n",
        "\n",
        "# Naive Bayes\n",
        "from sklearn.naive_bayes import MultinomialNB\n",
        "\n",
        "# Distance based\n",
        "from sklearn.neighbors import KNeighborsClassifier\n",
        "\n",
        "# packages for metric for evalaution of the models\n",
        "from sklearn import metrics\n",
        "from sklearn.metrics import classification_report , accuracy_score, confusion_matrix\n",
        "\n",
        "# to save the models so that we don't need to train the models every time we need to do prediction\n",
        "from sklearn.externals import joblib\n",
        "\n",
        "\n",
        "from sklearn.model_selection import train_test_split, cross_val_score\n"
      ],
      "execution_count": 0,
      "outputs": [
        {
          "output_type": "stream",
          "text": [
            "/home/python_user/.pyenv/versions/3.7.2/lib/python3.7/site-packages/sklearn/externals/joblib/__init__.py:15: FutureWarning: sklearn.externals.joblib is deprecated in 0.21 and will be removed in 0.23. Please import this functionality directly from joblib, which can be installed with: pip install joblib. If this warning is raised when loading pickled models, you may need to re-serialize those models with scikit-learn 0.21+.\n",
            "  warnings.warn(msg, category=FutureWarning)\n"
          ],
          "name": "stderr"
        }
      ]
    },
    {
      "cell_type": "code",
      "metadata": {
        "id": "fgBOj4OaqCjB",
        "colab_type": "code",
        "colab": {},
        "outputId": "20e1388d-7e64-4f20-bb32-c2d5065304e3"
      },
      "source": [
        "x_train, x_test = data_engineering(preprocessing(df))\n",
        "\n",
        "x_train.to_csv(\"train\")\n",
        "x_test.to_csv(\"test\")"
      ],
      "execution_count": 0,
      "outputs": [
        {
          "output_type": "stream",
          "text": [
            "(23028, 10)\n",
            "  location_name  count  max temp  mean temp  min temp  snow on grnd (cm)  \\\n",
            "0          ALEX      0     -14.0      -18.2     -22.3               27.0   \n",
            "1    ADAWE BIKE    968      29.5       23.8      18.0                0.0   \n",
            "2          COBY     10      -3.0       -9.3     -15.6                1.0   \n",
            "3          SOMO    122      14.0        8.8       3.5                0.0   \n",
            "4          OYNG    228      15.2        9.4       3.5                0.0   \n",
            "\n",
            "   total precip (mm)  total rain (mm)  total snow (cm)        date  \n",
            "0                0.3              0.0              0.3  2015-02-20  \n",
            "1                2.8              2.8              0.0  2016-08-28  \n",
            "2                7.0              0.0              9.5  2011-12-25  \n",
            "3               34.4             34.4              0.0  2017-05-01  \n",
            "4                0.0              0.0              0.0  2015-04-27  \n",
            "(23028, 11)\n",
            "         date location_name  total count  count  max temp  mean temp  \\\n",
            "0  2010-01-01          ALEX            0      0      -2.5       -4.1   \n",
            "1  2010-01-01          COBY            0      0      -2.5       -4.1   \n",
            "2  2010-01-01          ORPY            0      0      -2.5       -4.1   \n",
            "3  2010-01-02          ALEX            0      0     -11.9      -13.3   \n",
            "4  2010-01-02          ORPY            0      0     -11.9      -13.3   \n",
            "\n",
            "   min temp  snow on grnd (cm)  total precip (mm)  total rain (mm)  \\\n",
            "0      -5.7               18.0                5.0              0.0   \n",
            "1      -5.7               18.0                5.0              0.0   \n",
            "2      -5.7               18.0                5.0              0.0   \n",
            "3     -14.6               21.0                1.9              0.0   \n",
            "4     -14.6               21.0                1.9              0.0   \n",
            "\n",
            "   total snow (cm)  \n",
            "0              7.6  \n",
            "1              7.6  \n",
            "2              7.6  \n",
            "3              2.6  \n",
            "4              2.6  \n",
            "         date  total count  max temp  mean temp  min temp  snow on grnd (cm)  \\\n",
            "0  2010-01-01            0      -2.5       -4.1      -5.7               18.0   \n",
            "1  2010-01-01            0      -2.5       -4.1      -5.7               18.0   \n",
            "2  2010-01-01            0      -2.5       -4.1      -5.7               18.0   \n",
            "3  2010-01-02            0     -11.9      -13.3     -14.6               21.0   \n",
            "4  2010-01-02            0     -11.9      -13.3     -14.6               21.0   \n",
            "\n",
            "   total precip (mm)  total rain (mm)  total snow (cm)           class  \n",
            "0                5.0              0.0              7.6  less than 2000  \n",
            "1                5.0              0.0              7.6  less than 2000  \n",
            "2                5.0              0.0              7.6  less than 2000  \n",
            "3                1.9              0.0              2.6  less than 2000  \n",
            "4                1.9              0.0              2.6  less than 2000  \n",
            "[0, 0, 106, 106, 106, 120, 120, 120, 120, 0]\n",
            "[0, 0, 106, 106, 106, 120, 120, 120, 120, 0]\n"
          ],
          "name": "stdout"
        }
      ]
    },
    {
      "cell_type": "code",
      "metadata": {
        "id": "jn44AM1vqCjD",
        "colab_type": "code",
        "colab": {}
      },
      "source": [
        "#x_train = \n",
        "#y_train =\n",
        "#x_test = \n",
        "#y_test = \n",
        "\n",
        "\n",
        "# trying different models\n",
        "models = [\n",
        "    LogisticRegression(),\n",
        "    LinearSVC(),\n",
        "    DecisionTreeClassifier(),\n",
        "    KNeighborsClassifier(n_neighbors=5),\n",
        "    MultinomialNB()\n",
        "]\n",
        "\n",
        "# 5 cross validation\n",
        "CV = 5\n",
        "cv_df = pd.DataFrame(index=range(CV * len(models)))\n",
        "entries = []\n",
        "\n",
        "for model in models:\n",
        "  model_name = model.__class__.__name__\n",
        "  accuracies = cross_val_score(model, x_train, y_train, scoring='accuracy', cv=CV)\n",
        "    \n",
        "  for fold_idx, accuracy in enumerate(accuracies):\n",
        "    entries.append((model_name, fold_idx, accuracy))\n",
        "\n",
        "cv_df = pd.DataFrame(entries, columns=['model_name', 'fold_idx', 'accuracy'])\n",
        "cv_df.groupby('model_name').accuracy.mean()"
      ],
      "execution_count": 0,
      "outputs": []
    },
    {
      "cell_type": "code",
      "metadata": {
        "id": "xag3fSM9qCjF",
        "colab_type": "code",
        "colab": {}
      },
      "source": [
        "random_forest = RandomForestClassifier(n_estimators=10)\n",
        "random_forest.fit(x_train, y_train)\n",
        "\n",
        "\n",
        "print(\"Accuracy = \")\n",
        "print(random_forest.score(x_test, y_test))\n",
        "print(\"\\n\")\n",
        "y_pred_rf = random_forest.predict(X_test)\n",
        "print(classification_report(y_test, y_pred_rf))"
      ],
      "execution_count": 0,
      "outputs": []
    },
    {
      "cell_type": "code",
      "metadata": {
        "id": "usjp1azeqCjJ",
        "colab_type": "code",
        "colab": {}
      },
      "source": [
        "def classical_ml(train_df: pd.DataFrame, test_df: pd.DataFrame) -> (\n",
        "    'classifier', 'accuracy', 'confusion matrix'):\n",
        "    '''\n",
        "    Use classical machine learning methods to predict total counts\n",
        "\n",
        "    :param pd.DataFrame train_df: training set dataframe\n",
        "    :param pd.DataFrame test_df: test set dataframe\n",
        "\n",
        "    :returns 'classifier': trained classifier\n",
        "    :returns 'accuracy': tuple of training accuracy and testing accuracy\n",
        "    :returns 'confusion matrix': confusion matrix on test set\n",
        "    '''\n",
        "    x_train = train_df.drop(columns=['total count']).values\n",
        "    y_train = train_df['total count'].values\n",
        "    x_test = test_df.drop(columns=['total count']).values\n",
        "    y_test = test_df['total count'].values\n",
        "\n",
        "    #clf = model.fit(x_train, y_train, ...)\n",
        "    \n",
        "    \n",
        "    \n",
        "    ...\n",
        "    return (clf, (train_acc, test_acc), confusion_matrix)"
      ],
      "execution_count": 0,
      "outputs": []
    },
    {
      "cell_type": "markdown",
      "metadata": {
        "id": "i78LlqakqCjM",
        "colab_type": "text"
      },
      "source": [
        "## 4. Neural networks"
      ]
    },
    {
      "cell_type": "markdown",
      "metadata": {
        "id": "fuyD_uLBqCjN",
        "colab_type": "text"
      },
      "source": [
        "Please complete the function below which takes `train_df` and `test_df` as inputs, and outputs the trained model, accuracy on test set. You can experiment with as many structures as you want, please only leave the one with the best performance so that the function only returns one model. In addition to the model and test accuracy, please also produce two graphs in the notebook cell:\n",
        "\n",
        "- accuracy on train and validation data, `x-axis`: epochs, `y-axis`: accuracy\n",
        "- loss on train and validation data, `x-axis`: epochs, `y-axis`: loss\n",
        "\n",
        "Note validation data is not test set, it should be split from training set.\n",
        "\n",
        "Please answer the following questions as comments or in another markdown cell:\n",
        "\n",
        "1. How many epochs did you train? How did you decide when to stop training?\n",
        "2. Please briefly explain the model structure (layers, sizes) you choose.\n"
      ]
    },
    {
      "cell_type": "code",
      "metadata": {
        "id": "cqlnqNjkqCjN",
        "colab_type": "code",
        "colab": {}
      },
      "source": [
        "def nn_ml(train_df: pd.DataFrame, test: pd.DataFrame) ->  ('model',\n",
        "                                                           'test_accuracy'):\n",
        "    '''\n",
        "    Use neural networks to predict total counts\n",
        "\n",
        "    :param pd.DataFrame train_df: training set dataframe\n",
        "    :param pd.DataFrame test_df: test set dataframe\n",
        "\n",
        "    :returns 'model': trained model\n",
        "    :returns 'test_accuracy': accuracy on test set\n",
        "    '''\n",
        "    import keras\n",
        "    from keras.models import Sequential\n",
        "    from keras.layers import Dense\n",
        "    from sklearn.metrics import accuracy_score\n",
        "    \n",
        "    # paramenter initialization\n",
        "    batch_size = 1000\n",
        "    epoches = 5\n",
        "\n",
        "    x_train = train_df.drop(columns=['total count']).values\n",
        "    y_train = train_df['total count'].values\n",
        "    x_test = test_df.drop(columns=['total count']).values\n",
        "    y_test = test_df['total count'].values\n",
        "    \n",
        "    \n",
        "    #Dependencies\n",
        "    # Neural network\n",
        "    mdl = Sequential()\n",
        "    mdl.add(Dense(16, input_dim=20, activation=’relu’))\n",
        "    mdl.add(Dense(12, activation=’relu’))\n",
        "    mdl.add(Dense(4, activation=’softmax’))\n",
        "    mdl.summary()\n",
        "    \n",
        "    mdl.compile(loss='categorical_crossentropy', optimizer='adam', metrics=['accuracy'])\n",
        "    \n",
        "    # train model\n",
        "    print('\\n# Fit model on training data')\n",
        "    mdl.fit(x_train, y_train, \n",
        "            batch_size = batch_size\n",
        "            verbose=1,\n",
        "            validation_data=(x_test, y_test),\n",
        "            epochs=epochs)\n",
        "    \n",
        "    # evaluate model\n",
        "    print('\\n# Evaluate on test data')\n",
        "    mdl.evaluate(x_test, y_test, batch_size=44) \n",
        "    \n",
        "    # if only need test_acc\n",
        "    test_acc = accuracy_score(y_train,y_test)\n",
        "\n",
        "    return (mdl, test_acc)"
      ],
      "execution_count": 0,
      "outputs": []
    },
    {
      "cell_type": "markdown",
      "metadata": {
        "id": "9_3br8vZqCjP",
        "colab_type": "text"
      },
      "source": [
        "## 5. Discussions\n",
        "\n",
        "Please write your observations, comments regarding this dataset and problem, you can also tell us about what challenges you faced or what you have learnt during your experiments."
      ]
    },
    {
      "cell_type": "markdown",
      "metadata": {
        "id": "lyyk_omjqCjQ",
        "colab_type": "text"
      },
      "source": [
        "## 6. Optional\n",
        "\n",
        "If you are to design a forecasting model using this dataset to predict the counts of bicycles (still three categories, not actual numbers) in the future, what changes will you make? Please state all factors that you consider relevant, there is no need to write code for this question."
      ]
    },
    {
      "cell_type": "markdown",
      "metadata": {
        "id": "34UEaV9mqCjR",
        "colab_type": "text"
      },
      "source": [
        "# Before you submit\n",
        "\n",
        "Please use this checklist to make sure you submit all required files:\n",
        "\n",
        "- [ ] `part1_answers.txt`\n",
        "- [ ] `part2_answers.ipynb` (with code implementations and discussions)\n",
        "- [ ] `processed_data.csv`\n",
        "- [ ] `train.csv`\n",
        "- [ ] `test.csv`\n",
        "- [ ] (optional) `requirements.txt` if you used any additional package that was not listed before"
      ]
    }
  ]
}